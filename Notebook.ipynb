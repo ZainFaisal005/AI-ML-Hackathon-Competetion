{
 "cells": [
  {
   "cell_type": "markdown",
   "metadata": {},
   "source": [
    "# **AI Hackathon Competetion**"
   ]
  },
  {
   "cell_type": "markdown",
   "metadata": {},
   "source": [
    "### **Importing Libararies**"
   ]
  },
  {
   "cell_type": "code",
   "execution_count": 2,
   "metadata": {},
   "outputs": [],
   "source": [
    "import numpy as np\n",
    "import pandas as pd\n",
    "import matplotlib.pyplot as plt\n",
    "import seaborn as sns\n",
    "from sklearn.model_selection import train_test_split\n",
    "from sklearn.impute import SimpleImputer\n",
    "from sklearn.pipeline import Pipeline, make_pipeline\n",
    "from sklearn.preprocessing import OrdinalEncoder, OneHotEncoder, LabelEncoder, MinMaxScaler, FunctionTransformer\n",
    "from sklearn.tree import DecisionTreeClassifier\n",
    "from sklearn.ensemble import RandomForestClassifier, VotingClassifier\n",
    "from sklearn.neighbors import KNeighborsClassifier\n",
    "from sklearn.compose import ColumnTransformer\n",
    "from sklearn.linear_model import LogisticRegression\n",
    "from sklearn.metrics import classification_report, accuracy_score, confusion_matrix, ConfusionMatrixDisplay"
   ]
  },
  {
   "cell_type": "markdown",
   "metadata": {},
   "source": [
    "## **Data Overview**"
   ]
  },
  {
   "cell_type": "code",
   "execution_count": 3,
   "metadata": {},
   "outputs": [
    {
     "data": {
      "text/html": [
       "<div>\n",
       "<style scoped>\n",
       "    .dataframe tbody tr th:only-of-type {\n",
       "        vertical-align: middle;\n",
       "    }\n",
       "\n",
       "    .dataframe tbody tr th {\n",
       "        vertical-align: top;\n",
       "    }\n",
       "\n",
       "    .dataframe thead th {\n",
       "        text-align: right;\n",
       "    }\n",
       "</style>\n",
       "<table border=\"1\" class=\"dataframe\">\n",
       "  <thead>\n",
       "    <tr style=\"text-align: right;\">\n",
       "      <th></th>\n",
       "      <th>Date_Time</th>\n",
       "      <th>Sex</th>\n",
       "      <th>Nation</th>\n",
       "      <th>Job</th>\n",
       "      <th>Freelance_Status</th>\n",
       "      <th>Genetic_Background</th>\n",
       "      <th>Therapy</th>\n",
       "      <th>Indoor_Days</th>\n",
       "      <th>Increasing_Stress</th>\n",
       "      <th>Habit_Changes</th>\n",
       "      <th>Psychological_History</th>\n",
       "      <th>Emotional_Fluctuations</th>\n",
       "      <th>Adaptation_Challenges</th>\n",
       "      <th>Job_Engagement</th>\n",
       "      <th>Social_Vulnerability</th>\n",
       "      <th>Psych_Evaluation</th>\n",
       "      <th>Support_Options</th>\n",
       "      <th>Body_Weight</th>\n",
       "    </tr>\n",
       "  </thead>\n",
       "  <tbody>\n",
       "    <tr>\n",
       "      <th>0</th>\n",
       "      <td>8/27/2014 13:47</td>\n",
       "      <td>Male</td>\n",
       "      <td>United States</td>\n",
       "      <td>Business</td>\n",
       "      <td>No</td>\n",
       "      <td>No</td>\n",
       "      <td>No</td>\n",
       "      <td>15-30 days</td>\n",
       "      <td>Maybe</td>\n",
       "      <td>Maybe</td>\n",
       "      <td>No</td>\n",
       "      <td>Medium</td>\n",
       "      <td>Yes</td>\n",
       "      <td>Maybe</td>\n",
       "      <td>Yes</td>\n",
       "      <td>No</td>\n",
       "      <td>Yes</td>\n",
       "      <td>59.0</td>\n",
       "    </tr>\n",
       "    <tr>\n",
       "      <th>1</th>\n",
       "      <td>8/29/2014 14:31</td>\n",
       "      <td>Male</td>\n",
       "      <td>United States</td>\n",
       "      <td>Student</td>\n",
       "      <td>Yes</td>\n",
       "      <td>Yes</td>\n",
       "      <td>Yes</td>\n",
       "      <td>1-14 days</td>\n",
       "      <td>Maybe</td>\n",
       "      <td>Yes</td>\n",
       "      <td>No</td>\n",
       "      <td>High</td>\n",
       "      <td>No</td>\n",
       "      <td>Yes</td>\n",
       "      <td>Maybe</td>\n",
       "      <td>No</td>\n",
       "      <td>Not sure</td>\n",
       "      <td>58.0</td>\n",
       "    </tr>\n",
       "    <tr>\n",
       "      <th>2</th>\n",
       "      <td>8/27/2014 11:34</td>\n",
       "      <td>Male</td>\n",
       "      <td>US</td>\n",
       "      <td>Others</td>\n",
       "      <td>NaN</td>\n",
       "      <td>No</td>\n",
       "      <td>Yes</td>\n",
       "      <td>More than 2 months</td>\n",
       "      <td>No</td>\n",
       "      <td>No</td>\n",
       "      <td>No</td>\n",
       "      <td>High</td>\n",
       "      <td>No</td>\n",
       "      <td>Yes</td>\n",
       "      <td>No</td>\n",
       "      <td>No</td>\n",
       "      <td>Yes</td>\n",
       "      <td>70.0</td>\n",
       "    </tr>\n",
       "    <tr>\n",
       "      <th>3</th>\n",
       "      <td>8/28/2014 22:22</td>\n",
       "      <td>Male</td>\n",
       "      <td>United States</td>\n",
       "      <td>Housewife</td>\n",
       "      <td>No</td>\n",
       "      <td>No</td>\n",
       "      <td>Yes</td>\n",
       "      <td>15-30 days</td>\n",
       "      <td>Maybe</td>\n",
       "      <td>No</td>\n",
       "      <td>No</td>\n",
       "      <td>Low</td>\n",
       "      <td>Yes</td>\n",
       "      <td>Maybe</td>\n",
       "      <td>Yes</td>\n",
       "      <td>No</td>\n",
       "      <td>No</td>\n",
       "      <td>72.0</td>\n",
       "    </tr>\n",
       "    <tr>\n",
       "      <th>4</th>\n",
       "      <td>8/27/2014 14:53</td>\n",
       "      <td>Male</td>\n",
       "      <td>United States</td>\n",
       "      <td>Housewife</td>\n",
       "      <td>No</td>\n",
       "      <td>No</td>\n",
       "      <td>Yes</td>\n",
       "      <td>Go out Every day</td>\n",
       "      <td>Yes</td>\n",
       "      <td>Yes</td>\n",
       "      <td>No</td>\n",
       "      <td>Low</td>\n",
       "      <td>Yes</td>\n",
       "      <td>No</td>\n",
       "      <td>No</td>\n",
       "      <td>No</td>\n",
       "      <td>Yes</td>\n",
       "      <td>94.0</td>\n",
       "    </tr>\n",
       "  </tbody>\n",
       "</table>\n",
       "</div>"
      ],
      "text/plain": [
       "         Date_Time   Sex         Nation        Job Freelance_Status  \\\n",
       "0  8/27/2014 13:47  Male  United States   Business               No   \n",
       "1  8/29/2014 14:31  Male  United States    Student              Yes   \n",
       "2  8/27/2014 11:34  Male             US     Others              NaN   \n",
       "3  8/28/2014 22:22  Male  United States  Housewife               No   \n",
       "4  8/27/2014 14:53  Male  United States  Housewife               No   \n",
       "\n",
       "  Genetic_Background Therapy         Indoor_Days Increasing_Stress  \\\n",
       "0                 No      No          15-30 days             Maybe   \n",
       "1                Yes     Yes           1-14 days             Maybe   \n",
       "2                 No     Yes  More than 2 months                No   \n",
       "3                 No     Yes          15-30 days             Maybe   \n",
       "4                 No     Yes    Go out Every day               Yes   \n",
       "\n",
       "  Habit_Changes Psychological_History Emotional_Fluctuations  \\\n",
       "0         Maybe                    No                 Medium   \n",
       "1           Yes                    No                   High   \n",
       "2            No                    No                   High   \n",
       "3            No                    No                    Low   \n",
       "4           Yes                    No                    Low   \n",
       "\n",
       "  Adaptation_Challenges Job_Engagement Social_Vulnerability Psych_Evaluation  \\\n",
       "0                   Yes          Maybe                  Yes               No   \n",
       "1                    No            Yes                Maybe               No   \n",
       "2                    No            Yes                   No               No   \n",
       "3                   Yes          Maybe                  Yes               No   \n",
       "4                   Yes             No                   No               No   \n",
       "\n",
       "  Support_Options  Body_Weight  \n",
       "0             Yes         59.0  \n",
       "1        Not sure         58.0  \n",
       "2             Yes         70.0  \n",
       "3              No         72.0  \n",
       "4             Yes         94.0  "
      ]
     },
     "execution_count": 3,
     "metadata": {},
     "output_type": "execute_result"
    }
   ],
   "source": [
    "df = pd.read_csv('train.csv')\n",
    "df.head()"
   ]
  },
  {
   "cell_type": "code",
   "execution_count": 4,
   "metadata": {},
   "outputs": [
    {
     "data": {
      "text/plain": [
       "(277746, 18)"
      ]
     },
     "execution_count": 4,
     "metadata": {},
     "output_type": "execute_result"
    }
   ],
   "source": [
    "df.shape"
   ]
  },
  {
   "cell_type": "code",
   "execution_count": 5,
   "metadata": {},
   "outputs": [
    {
     "name": "stdout",
     "output_type": "stream",
     "text": [
      "<class 'pandas.core.frame.DataFrame'>\n",
      "RangeIndex: 277746 entries, 0 to 277745\n",
      "Data columns (total 18 columns):\n",
      " #   Column                  Non-Null Count   Dtype  \n",
      "---  ------                  --------------   -----  \n",
      " 0   Date_Time               277746 non-null  object \n",
      " 1   Sex                     277746 non-null  object \n",
      " 2   Nation                  277745 non-null  object \n",
      " 3   Job                     277746 non-null  object \n",
      " 4   Freelance_Status        272781 non-null  object \n",
      " 5   Genetic_Background      277746 non-null  object \n",
      " 6   Therapy                 277745 non-null  object \n",
      " 7   Indoor_Days             277743 non-null  object \n",
      " 8   Increasing_Stress       277746 non-null  object \n",
      " 9   Habit_Changes           277746 non-null  object \n",
      " 10  Psychological_History   277744 non-null  object \n",
      " 11  Emotional_Fluctuations  277746 non-null  object \n",
      " 12  Adaptation_Challenges   277745 non-null  object \n",
      " 13  Job_Engagement          277742 non-null  object \n",
      " 14  Social_Vulnerability    277746 non-null  object \n",
      " 15  Psych_Evaluation        277744 non-null  object \n",
      " 16  Support_Options         277742 non-null  object \n",
      " 17  Body_Weight             277745 non-null  float64\n",
      "dtypes: float64(1), object(17)\n",
      "memory usage: 38.1+ MB\n"
     ]
    }
   ],
   "source": [
    "df.info()"
   ]
  },
  {
   "cell_type": "code",
   "execution_count": 6,
   "metadata": {},
   "outputs": [
    {
     "data": {
      "text/plain": [
       "Date_Time                    0\n",
       "Sex                          0\n",
       "Nation                       1\n",
       "Job                          0\n",
       "Freelance_Status          4965\n",
       "Genetic_Background           0\n",
       "Therapy                      1\n",
       "Indoor_Days                  3\n",
       "Increasing_Stress            0\n",
       "Habit_Changes                0\n",
       "Psychological_History        2\n",
       "Emotional_Fluctuations       0\n",
       "Adaptation_Challenges        1\n",
       "Job_Engagement               4\n",
       "Social_Vulnerability         0\n",
       "Psych_Evaluation             2\n",
       "Support_Options              4\n",
       "Body_Weight                  1\n",
       "dtype: int64"
      ]
     },
     "execution_count": 6,
     "metadata": {},
     "output_type": "execute_result"
    }
   ],
   "source": [
    "df.isnull().sum()"
   ]
  },
  {
   "cell_type": "code",
   "execution_count": 7,
   "metadata": {},
   "outputs": [
    {
     "data": {
      "text/plain": [
       "Index(['Date_Time', 'Sex', 'Nation', 'Job', 'Freelance_Status',\n",
       "       'Genetic_Background', 'Therapy', 'Indoor_Days', 'Increasing_Stress',\n",
       "       'Habit_Changes', 'Psychological_History', 'Emotional_Fluctuations',\n",
       "       'Adaptation_Challenges', 'Job_Engagement', 'Social_Vulnerability',\n",
       "       'Psych_Evaluation', 'Support_Options', 'Body_Weight'],\n",
       "      dtype='object')"
      ]
     },
     "execution_count": 7,
     "metadata": {},
     "output_type": "execute_result"
    }
   ],
   "source": [
    "df.columns"
   ]
  },
  {
   "cell_type": "markdown",
   "metadata": {},
   "source": [
    "### **Target Column Value Counts**"
   ]
  },
  {
   "cell_type": "code",
   "execution_count": 8,
   "metadata": {},
   "outputs": [
    {
     "data": {
      "text/plain": [
       "Emotional_Fluctuations\n",
       "Medium    96007\n",
       "Low       94765\n",
       "High      86974\n",
       "Name: count, dtype: int64"
      ]
     },
     "execution_count": 8,
     "metadata": {},
     "output_type": "execute_result"
    }
   ],
   "source": [
    "df['Emotional_Fluctuations'].value_counts()"
   ]
  },
  {
   "cell_type": "code",
   "execution_count": 9,
   "metadata": {},
   "outputs": [
    {
     "data": {
      "text/plain": [
       "<bound method NDFrame.describe of               Date_Time     Sex         Nation        Job Freelance_Status  \\\n",
       "0       8/27/2014 13:47    Male  United States   Business               No   \n",
       "1       8/29/2014 14:31    Male  United States    Student              Yes   \n",
       "2       8/27/2014 11:34    Male             US     Others              NaN   \n",
       "3       8/28/2014 22:22    Male  United States  Housewife               No   \n",
       "4       8/27/2014 14:53    Male  United States  Housewife               No   \n",
       "...                 ...     ...            ...        ...              ...   \n",
       "277741   8/30/2014 0:09    Male  United States    Student               No   \n",
       "277742  9/11/2014 17:00    Male  United States    Student               No   \n",
       "277743  8/27/2014 12:05    Male  United States  Corporate               No   \n",
       "277744  8/29/2014 10:38    Male  United States   Business               No   \n",
       "277745  8/28/2014 16:54  Female  United States    Student               No   \n",
       "\n",
       "       Genetic_Background Therapy         Indoor_Days Increasing_Stress  \\\n",
       "0                      No      No          15-30 days             Maybe   \n",
       "1                     Yes     Yes           1-14 days             Maybe   \n",
       "2                      No     Yes  More than 2 months                No   \n",
       "3                      No     Yes          15-30 days             Maybe   \n",
       "4                      No     Yes    Go out Every day               Yes   \n",
       "...                   ...     ...                 ...               ...   \n",
       "277741                 No     Yes          15-30 days               Yes   \n",
       "277742                 No      No          31-60 days               Yes   \n",
       "277743                Yes      No          31-60 days                No   \n",
       "277744                Yes      No          15-30 days                No   \n",
       "277745                Yes     Yes          31-60 days             Maybe   \n",
       "\n",
       "       Habit_Changes Psychological_History Emotional_Fluctuations  \\\n",
       "0              Maybe                    No                 Medium   \n",
       "1                Yes                    No                   High   \n",
       "2                 No                    No                   High   \n",
       "3                 No                    No                    Low   \n",
       "4                Yes                    No                    Low   \n",
       "...              ...                   ...                    ...   \n",
       "277741            No                 Maybe                 Medium   \n",
       "277742           Yes                    No                    Low   \n",
       "277743           Yes                 Maybe                 Medium   \n",
       "277744           Yes                 Maybe                 Medium   \n",
       "277745            No                    No                 Medium   \n",
       "\n",
       "       Adaptation_Challenges Job_Engagement Social_Vulnerability  \\\n",
       "0                        Yes          Maybe                  Yes   \n",
       "1                         No            Yes                Maybe   \n",
       "2                         No            Yes                   No   \n",
       "3                        Yes          Maybe                  Yes   \n",
       "4                        Yes             No                   No   \n",
       "...                      ...            ...                  ...   \n",
       "277741                    No            Yes                Maybe   \n",
       "277742                    No            Yes                   No   \n",
       "277743                    No             No                  Yes   \n",
       "277744                   Yes          Maybe                  Yes   \n",
       "277745                    No             No                  Yes   \n",
       "\n",
       "       Psych_Evaluation Support_Options  Body_Weight  \n",
       "0                    No             Yes         59.0  \n",
       "1                    No        Not sure         58.0  \n",
       "2                    No             Yes         70.0  \n",
       "3                    No              No         72.0  \n",
       "4                    No             Yes         94.0  \n",
       "...                 ...             ...          ...  \n",
       "277741               No             Yes         97.0  \n",
       "277742               No              No         96.0  \n",
       "277743               No              No         84.0  \n",
       "277744               No        Not sure         66.0  \n",
       "277745            Maybe             Yes         74.0  \n",
       "\n",
       "[277746 rows x 18 columns]>"
      ]
     },
     "execution_count": 9,
     "metadata": {},
     "output_type": "execute_result"
    }
   ],
   "source": [
    "df.describe"
   ]
  },
  {
   "cell_type": "markdown",
   "metadata": {},
   "source": [
    "# **Exploratory Data Analysis**"
   ]
  },
  {
   "cell_type": "markdown",
   "metadata": {},
   "source": [
    "### **Separating Date and Time**"
   ]
  },
  {
   "cell_type": "code",
   "execution_count": 10,
   "metadata": {},
   "outputs": [],
   "source": [
    "df['Date_Time'] = pd.to_datetime(df['Date_Time'])"
   ]
  },
  {
   "cell_type": "code",
   "execution_count": 11,
   "metadata": {},
   "outputs": [],
   "source": [
    "df['Date'] = df['Date_Time'].dt.date\n",
    "df['Time'] = df['Date_Time'].dt.time"
   ]
  },
  {
   "cell_type": "code",
   "execution_count": 12,
   "metadata": {},
   "outputs": [],
   "source": [
    "df.drop(columns=['Date_Time'], inplace=True)"
   ]
  },
  {
   "cell_type": "code",
   "execution_count": 13,
   "metadata": {},
   "outputs": [
    {
     "data": {
      "text/html": [
       "<div>\n",
       "<style scoped>\n",
       "    .dataframe tbody tr th:only-of-type {\n",
       "        vertical-align: middle;\n",
       "    }\n",
       "\n",
       "    .dataframe tbody tr th {\n",
       "        vertical-align: top;\n",
       "    }\n",
       "\n",
       "    .dataframe thead th {\n",
       "        text-align: right;\n",
       "    }\n",
       "</style>\n",
       "<table border=\"1\" class=\"dataframe\">\n",
       "  <thead>\n",
       "    <tr style=\"text-align: right;\">\n",
       "      <th></th>\n",
       "      <th>Sex</th>\n",
       "      <th>Nation</th>\n",
       "      <th>Job</th>\n",
       "      <th>Freelance_Status</th>\n",
       "      <th>Genetic_Background</th>\n",
       "      <th>Therapy</th>\n",
       "      <th>Indoor_Days</th>\n",
       "      <th>Increasing_Stress</th>\n",
       "      <th>Habit_Changes</th>\n",
       "      <th>Psychological_History</th>\n",
       "      <th>Emotional_Fluctuations</th>\n",
       "      <th>Adaptation_Challenges</th>\n",
       "      <th>Job_Engagement</th>\n",
       "      <th>Social_Vulnerability</th>\n",
       "      <th>Psych_Evaluation</th>\n",
       "      <th>Support_Options</th>\n",
       "      <th>Body_Weight</th>\n",
       "      <th>Date</th>\n",
       "      <th>Time</th>\n",
       "    </tr>\n",
       "  </thead>\n",
       "  <tbody>\n",
       "    <tr>\n",
       "      <th>0</th>\n",
       "      <td>Male</td>\n",
       "      <td>United States</td>\n",
       "      <td>Business</td>\n",
       "      <td>No</td>\n",
       "      <td>No</td>\n",
       "      <td>No</td>\n",
       "      <td>15-30 days</td>\n",
       "      <td>Maybe</td>\n",
       "      <td>Maybe</td>\n",
       "      <td>No</td>\n",
       "      <td>Medium</td>\n",
       "      <td>Yes</td>\n",
       "      <td>Maybe</td>\n",
       "      <td>Yes</td>\n",
       "      <td>No</td>\n",
       "      <td>Yes</td>\n",
       "      <td>59.0</td>\n",
       "      <td>2014-08-27</td>\n",
       "      <td>13:47:00</td>\n",
       "    </tr>\n",
       "    <tr>\n",
       "      <th>1</th>\n",
       "      <td>Male</td>\n",
       "      <td>United States</td>\n",
       "      <td>Student</td>\n",
       "      <td>Yes</td>\n",
       "      <td>Yes</td>\n",
       "      <td>Yes</td>\n",
       "      <td>1-14 days</td>\n",
       "      <td>Maybe</td>\n",
       "      <td>Yes</td>\n",
       "      <td>No</td>\n",
       "      <td>High</td>\n",
       "      <td>No</td>\n",
       "      <td>Yes</td>\n",
       "      <td>Maybe</td>\n",
       "      <td>No</td>\n",
       "      <td>Not sure</td>\n",
       "      <td>58.0</td>\n",
       "      <td>2014-08-29</td>\n",
       "      <td>14:31:00</td>\n",
       "    </tr>\n",
       "    <tr>\n",
       "      <th>2</th>\n",
       "      <td>Male</td>\n",
       "      <td>US</td>\n",
       "      <td>Others</td>\n",
       "      <td>NaN</td>\n",
       "      <td>No</td>\n",
       "      <td>Yes</td>\n",
       "      <td>More than 2 months</td>\n",
       "      <td>No</td>\n",
       "      <td>No</td>\n",
       "      <td>No</td>\n",
       "      <td>High</td>\n",
       "      <td>No</td>\n",
       "      <td>Yes</td>\n",
       "      <td>No</td>\n",
       "      <td>No</td>\n",
       "      <td>Yes</td>\n",
       "      <td>70.0</td>\n",
       "      <td>2014-08-27</td>\n",
       "      <td>11:34:00</td>\n",
       "    </tr>\n",
       "    <tr>\n",
       "      <th>3</th>\n",
       "      <td>Male</td>\n",
       "      <td>United States</td>\n",
       "      <td>Housewife</td>\n",
       "      <td>No</td>\n",
       "      <td>No</td>\n",
       "      <td>Yes</td>\n",
       "      <td>15-30 days</td>\n",
       "      <td>Maybe</td>\n",
       "      <td>No</td>\n",
       "      <td>No</td>\n",
       "      <td>Low</td>\n",
       "      <td>Yes</td>\n",
       "      <td>Maybe</td>\n",
       "      <td>Yes</td>\n",
       "      <td>No</td>\n",
       "      <td>No</td>\n",
       "      <td>72.0</td>\n",
       "      <td>2014-08-28</td>\n",
       "      <td>22:22:00</td>\n",
       "    </tr>\n",
       "    <tr>\n",
       "      <th>4</th>\n",
       "      <td>Male</td>\n",
       "      <td>United States</td>\n",
       "      <td>Housewife</td>\n",
       "      <td>No</td>\n",
       "      <td>No</td>\n",
       "      <td>Yes</td>\n",
       "      <td>Go out Every day</td>\n",
       "      <td>Yes</td>\n",
       "      <td>Yes</td>\n",
       "      <td>No</td>\n",
       "      <td>Low</td>\n",
       "      <td>Yes</td>\n",
       "      <td>No</td>\n",
       "      <td>No</td>\n",
       "      <td>No</td>\n",
       "      <td>Yes</td>\n",
       "      <td>94.0</td>\n",
       "      <td>2014-08-27</td>\n",
       "      <td>14:53:00</td>\n",
       "    </tr>\n",
       "  </tbody>\n",
       "</table>\n",
       "</div>"
      ],
      "text/plain": [
       "    Sex         Nation        Job Freelance_Status Genetic_Background Therapy  \\\n",
       "0  Male  United States   Business               No                 No      No   \n",
       "1  Male  United States    Student              Yes                Yes     Yes   \n",
       "2  Male             US     Others              NaN                 No     Yes   \n",
       "3  Male  United States  Housewife               No                 No     Yes   \n",
       "4  Male  United States  Housewife               No                 No     Yes   \n",
       "\n",
       "          Indoor_Days Increasing_Stress Habit_Changes Psychological_History  \\\n",
       "0          15-30 days             Maybe         Maybe                    No   \n",
       "1           1-14 days             Maybe           Yes                    No   \n",
       "2  More than 2 months                No            No                    No   \n",
       "3          15-30 days             Maybe            No                    No   \n",
       "4    Go out Every day               Yes           Yes                    No   \n",
       "\n",
       "  Emotional_Fluctuations Adaptation_Challenges Job_Engagement  \\\n",
       "0                 Medium                   Yes          Maybe   \n",
       "1                   High                    No            Yes   \n",
       "2                   High                    No            Yes   \n",
       "3                    Low                   Yes          Maybe   \n",
       "4                    Low                   Yes             No   \n",
       "\n",
       "  Social_Vulnerability Psych_Evaluation Support_Options  Body_Weight  \\\n",
       "0                  Yes               No             Yes         59.0   \n",
       "1                Maybe               No        Not sure         58.0   \n",
       "2                   No               No             Yes         70.0   \n",
       "3                  Yes               No              No         72.0   \n",
       "4                   No               No             Yes         94.0   \n",
       "\n",
       "         Date      Time  \n",
       "0  2014-08-27  13:47:00  \n",
       "1  2014-08-29  14:31:00  \n",
       "2  2014-08-27  11:34:00  \n",
       "3  2014-08-28  22:22:00  \n",
       "4  2014-08-27  14:53:00  "
      ]
     },
     "execution_count": 13,
     "metadata": {},
     "output_type": "execute_result"
    }
   ],
   "source": [
    "df.head()"
   ]
  },
  {
   "cell_type": "markdown",
   "metadata": {},
   "source": [
    "### **Balancing States Names in Nations**"
   ]
  },
  {
   "cell_type": "code",
   "execution_count": 14,
   "metadata": {},
   "outputs": [],
   "source": [
    "df['Nation'] = df['Nation'].replace({'us': 'United States', \n",
    "                                    'uk': 'United Kingdom', \n",
    "                                    'usa': 'United States', \n",
    "                                    'united states of america': 'United States', \n",
    "                                    'england': 'United Kingdom'})\n"
   ]
  },
  {
   "cell_type": "code",
   "execution_count": 15,
   "metadata": {},
   "outputs": [],
   "source": [
    "numeric_columns = df.select_dtypes(include=['number']).columns.tolist()\n",
    "categorical_columns = df.select_dtypes(include=['object', 'category']).columns.tolist()"
   ]
  },
  {
   "cell_type": "code",
   "execution_count": 16,
   "metadata": {},
   "outputs": [
    {
     "data": {
      "text/plain": [
       "['Body_Weight']"
      ]
     },
     "execution_count": 16,
     "metadata": {},
     "output_type": "execute_result"
    }
   ],
   "source": [
    "numeric_columns"
   ]
  },
  {
   "cell_type": "code",
   "execution_count": 17,
   "metadata": {},
   "outputs": [
    {
     "data": {
      "text/plain": [
       "['Sex',\n",
       " 'Nation',\n",
       " 'Job',\n",
       " 'Freelance_Status',\n",
       " 'Genetic_Background',\n",
       " 'Therapy',\n",
       " 'Indoor_Days',\n",
       " 'Increasing_Stress',\n",
       " 'Habit_Changes',\n",
       " 'Psychological_History',\n",
       " 'Emotional_Fluctuations',\n",
       " 'Adaptation_Challenges',\n",
       " 'Job_Engagement',\n",
       " 'Social_Vulnerability',\n",
       " 'Psych_Evaluation',\n",
       " 'Support_Options',\n",
       " 'Date',\n",
       " 'Time']"
      ]
     },
     "execution_count": 17,
     "metadata": {},
     "output_type": "execute_result"
    }
   ],
   "source": [
    "categorical_columns"
   ]
  },
  {
   "cell_type": "markdown",
   "metadata": {},
   "source": [
    "### **Missing Values HeatMap**"
   ]
  },
  {
   "cell_type": "code",
   "execution_count": 18,
   "metadata": {},
   "outputs": [
    {
     "data": {
      "image/png": "[encoded data removed]",
      "text/plain": [
       "<Figure size 1200x600 with 1 Axes>"
      ]
     },
     "metadata": {},
     "output_type": "display_data"
    }
   ],
   "source": [
    "plt.figure(figsize=(12, 6))\n",
    "sns.heatmap(df.isnull(), cbar=False, cmap='viridis')\n",
    "plt.title('Missing Values Heatmap')\n",
    "plt.show()"
   ]
  },
  {
   "cell_type": "markdown",
   "metadata": {},
   "source": [
    "### **Percentage of Missing Values**"
   ]
  },
  {
   "cell_type": "code",
   "execution_count": 19,
   "metadata": {},
   "outputs": [
    {
     "data": {
      "text/plain": [
       "Freelance_Status         1.787605\n",
       "Job_Engagement           0.001440\n",
       "Support_Options          0.001440\n",
       "Indoor_Days              0.001080\n",
       "Psychological_History    0.000720\n",
       "Psych_Evaluation         0.000720\n",
       "Nation                   0.000360\n",
       "Therapy                  0.000360\n",
       "Adaptation_Challenges    0.000360\n",
       "Body_Weight              0.000360\n",
       "dtype: float64"
      ]
     },
     "execution_count": 19,
     "metadata": {},
     "output_type": "execute_result"
    }
   ],
   "source": [
    "missing_values = df.isnull().mean() * 100\n",
    "missing_values = missing_values[missing_values > 0]\n",
    "missing_values.sort_values(ascending=False)"
   ]
  },
  {
   "cell_type": "markdown",
   "metadata": {},
   "source": [
    "### **Distribution of Body Weight**"
   ]
  },
  {
   "cell_type": "code",
   "execution_count": 20,
   "metadata": {},
   "outputs": [
    {
     "data": {
      "image/png": "[encoded data removed]",
      "text/plain": [
       "<Figure size 1000x600 with 1 Axes>"
      ]
     },
     "metadata": {},
     "output_type": "display_data"
    }
   ],
   "source": [
    "plt.figure(figsize=(10, 6))\n",
    "sns.histplot(df['Body_Weight'], bins=30, kde=True, color='lightpink')\n",
    "plt.title('Distribution of Body Weight')\n",
    "plt.xlabel('Body Weight (kg)')\n",
    "plt.ylabel('Frequency')\n",
    "plt.show()"
   ]
  },
  {
   "cell_type": "markdown",
   "metadata": {},
   "source": [
    "### **Distribution of Gender**"
   ]
  },
  {
   "cell_type": "code",
   "execution_count": 21,
   "metadata": {},
   "outputs": [
    {
     "data": {
      "image/png": "[encoded data removed]",
      "text/plain": [
       "<Figure size 1000x600 with 1 Axes>"
      ]
     },
     "metadata": {},
     "output_type": "display_data"
    }
   ],
   "source": [
    "sex_counts = df['Sex'].value_counts()\n",
    "plt.figure(figsize=(10, 6))\n",
    "plt.pie(sex_counts, labels=sex_counts.index, autopct='%1.1f%%', startangle=140, colors=['#ff9999','#66b3ff'])\n",
    "plt.title('Distribution of Sex')\n",
    "plt.axis('equal')\n",
    "plt.show()"
   ]
  },
  {
   "cell_type": "markdown",
   "metadata": {},
   "source": [
    "### **Relationship between Sex and Freelance Status**"
   ]
  },
  {
   "cell_type": "code",
   "execution_count": 22,
   "metadata": {},
   "outputs": [
    {
     "data": {
      "image/png": "[encoded data removed]",
      "text/plain": [
       "<Figure size 1000x600 with 1 Axes>"
      ]
     },
     "metadata": {},
     "output_type": "display_data"
    }
   ],
   "source": [
    "plt.figure(figsize=(10, 6))\n",
    "sns.countplot(x='Sex', hue='Freelance_Status', data=df)\n",
    "plt.title('Sex vs Freelance Status')\n",
    "plt.xlabel('Sex')\n",
    "plt.ylabel('Count')\n",
    "plt.show()"
   ]
  },
  {
   "cell_type": "markdown",
   "metadata": {},
   "source": [
    "###  **Relationship between Sex and Body Weight**"
   ]
  },
  {
   "cell_type": "code",
   "execution_count": 23,
   "metadata": {},
   "outputs": [
    {
     "data": {
      "image/png": "[encoded data removed]",
      "text/plain": [
       "<Figure size 1000x600 with 1 Axes>"
      ]
     },
     "metadata": {},
     "output_type": "display_data"
    }
   ],
   "source": [
    "plt.figure(figsize=(10, 6))\n",
    "sns.boxplot(x='Sex', y='Body_Weight', data=df)\n",
    "plt.title('Body Weight by Sex')\n",
    "plt.xlabel('Sex')\n",
    "plt.ylabel('Body Weight (kg)')\n",
    "plt.show()"
   ]
  },
  {
   "cell_type": "markdown",
   "metadata": {},
   "source": [
    "### **Distribution of Job in different Nations**"
   ]
  },
  {
   "cell_type": "code",
   "execution_count": 24,
   "metadata": {},
   "outputs": [
    {
     "data": {
      "image/png": "[encoded data removed]",
      "text/plain": [
       "<Figure size 640x480 with 1 Axes>"
      ]
     },
     "metadata": {},
     "output_type": "display_data"
    }
   ],
   "source": [
    "sns.lineplot(data=df, x='Job', y='Nation')\n",
    "plt.title('Number of Entries by State over Time')\n",
    "plt.xlabel('Date')\n",
    "plt.ylabel('Number of Entries')\n",
    "plt.xticks(rotation=45)\n",
    "plt.show()"
   ]
  },
  {
   "cell_type": "code",
   "execution_count": 25,
   "metadata": {},
   "outputs": [
    {
     "name": "stdout",
     "output_type": "stream",
     "text": [
      "\n",
      "Value counts for column: Sex\n",
      "Sex\n",
      "Male      227858\n",
      "Female     49888\n",
      "Name: count, dtype: int64\n",
      "\n",
      "Value counts for column: Nation\n",
      "Nation\n",
      "United States               162815\n",
      "United Kingdom               48780\n",
      "Canada                       17785\n",
      "Australia                     5718\n",
      "Netherlands                   5594\n",
      "Ireland                       5275\n",
      "Germany                       4456\n",
      "Sweden                        2676\n",
      "India                         2633\n",
      "Brazil                        2223\n",
      "France                        2211\n",
      "South Africa                  1894\n",
      "New Zealand                   1888\n",
      "Switzerland                   1486\n",
      "Israel                        1483\n",
      "Italy                         1478\n",
      "Belgium                        780\n",
      "Poland                         777\n",
      "Greece                         748\n",
      "Singapore                      746\n",
      "Russia                         744\n",
      "Denmark                        740\n",
      "Thailand                       380\n",
      "Portugal                       373\n",
      "Croatia                        372\n",
      "Colombia                       371\n",
      "Moldova                        371\n",
      "Philippines                    371\n",
      "Mexico                         370\n",
      "Georgia                        370\n",
      "Finland                        368\n",
      "Czech Republic                 365\n",
      "Bosnia and Herzegovina         365\n",
      "Nigeria                        363\n",
      "Costa Rica                     362\n",
      "US                               4\n",
      "USA                              3\n",
      "UK                               2\n",
      "Usa                              2\n",
      "England                          1\n",
      "Uk                               1\n",
      "United States of America         1\n",
      "Name: count, dtype: int64\n",
      "\n",
      "Value counts for column: Job\n",
      "Job\n",
      "Housewife      62985\n",
      "Student        58757\n",
      "Corporate      58150\n",
      "Others         50199\n",
      "Business       47652\n",
      "Not Defined        3\n",
      "Name: count, dtype: int64\n",
      "\n",
      "Value counts for column: Freelance_Status\n",
      "Freelance_Status\n",
      "No      245078\n",
      "Yes      27700\n",
      "NiLL         1\n",
      "YES          1\n",
      "no           1\n",
      "Name: count, dtype: int64\n",
      "\n",
      "Value counts for column: Genetic_Background\n",
      "Genetic_Background\n",
      "No      167960\n",
      "Yes     109778\n",
      "NILL         3\n",
      "NO           2\n",
      "Null         1\n",
      "YEs          1\n",
      "YES          1\n",
      "Name: count, dtype: int64\n",
      "\n",
      "Value counts for column: Therapy\n",
      "Therapy\n",
      "Yes    140240\n",
      "No     137501\n",
      "NO          3\n",
      "YES         1\n",
      "Name: count, dtype: int64\n",
      "\n",
      "Value counts for column: Indoor_Days\n",
      "Indoor_Days\n",
      "1-14 days             60418\n",
      "31-60 days            57664\n",
      "Go out Every day      55402\n",
      "More than 2 months    53110\n",
      "15-30 days            51148\n",
      "Go out Every Day          1\n",
      "Name: count, dtype: int64\n",
      "\n",
      "Value counts for column: Increasing_Stress\n",
      "Increasing_Stress\n",
      "Maybe    95088\n",
      "Yes      94622\n",
      "No       88036\n",
      "Name: count, dtype: int64\n",
      "\n",
      "Value counts for column: Habit_Changes\n",
      "Habit_Changes\n",
      "Yes      104110\n",
      "Maybe     90371\n",
      "No        83264\n",
      "YES           1\n",
      "Name: count, dtype: int64\n",
      "\n",
      "Value counts for column: Psychological_History\n",
      "Psychological_History\n",
      "No       98883\n",
      "Maybe    90511\n",
      "Yes      88350\n",
      "Name: count, dtype: int64\n",
      "\n",
      "Value counts for column: Emotional_Fluctuations\n",
      "Emotional_Fluctuations\n",
      "Medium    96007\n",
      "Low       94765\n",
      "High      86974\n",
      "Name: count, dtype: int64\n",
      "\n",
      "Value counts for column: Adaptation_Challenges\n",
      "Adaptation_Challenges\n",
      "No     146552\n",
      "Yes    131191\n",
      "NO          1\n",
      "no          1\n",
      "Name: count, dtype: int64\n",
      "\n",
      "Value counts for column: Job_Engagement\n",
      "Job_Engagement\n",
      "No       100521\n",
      "Maybe     96136\n",
      "Yes       81081\n",
      "NILL          2\n",
      "NO            1\n",
      "N/a           1\n",
      "Name: count, dtype: int64\n",
      "\n",
      "Value counts for column: Social_Vulnerability\n",
      "Social_Vulnerability\n",
      "Maybe    98197\n",
      "No       92450\n",
      "Yes      87099\n",
      "Name: count, dtype: int64\n",
      "\n",
      "Value counts for column: Psych_Evaluation\n",
      "Psych_Evaluation\n",
      "No       220520\n",
      "Maybe     49019\n",
      "Yes        8204\n",
      "N/a           1\n",
      "Name: count, dtype: int64\n",
      "\n",
      "Value counts for column: Support_Options\n",
      "Support_Options\n",
      "No          112981\n",
      "Yes          90912\n",
      "Not sure     73847\n",
      "N/a              1\n",
      "NO               1\n",
      "Name: count, dtype: int64\n",
      "\n",
      "Value counts for column: Body_Weight\n",
      "Body_Weight\n",
      "53.0     5627\n",
      "76.0     5611\n",
      "54.0     5589\n",
      "71.0     5572\n",
      "87.0     5553\n",
      "78.0     5536\n",
      "68.0     5523\n",
      "55.0     5522\n",
      "73.0     5520\n",
      "86.0     5513\n",
      "63.0     5512\n",
      "74.0     5510\n",
      "65.0     5501\n",
      "57.0     5501\n",
      "95.0     5490\n",
      "50.0     5485\n",
      "84.0     5479\n",
      "93.0     5476\n",
      "83.0     5475\n",
      "69.0     5467\n",
      "85.0     5461\n",
      "59.0     5461\n",
      "67.0     5460\n",
      "56.0     5456\n",
      "89.0     5450\n",
      "60.0     5450\n",
      "90.0     5447\n",
      "58.0     5447\n",
      "75.0     5444\n",
      "62.0     5442\n",
      "77.0     5442\n",
      "52.0     5436\n",
      "81.0     5433\n",
      "94.0     5431\n",
      "79.0     5430\n",
      "97.0     5427\n",
      "98.0     5419\n",
      "91.0     5402\n",
      "70.0     5398\n",
      "100.0    5374\n",
      "66.0     5372\n",
      "61.0     5371\n",
      "80.0     5369\n",
      "99.0     5364\n",
      "51.0     5357\n",
      "72.0     5345\n",
      "92.0     5321\n",
      "96.0     5289\n",
      "64.0     5283\n",
      "82.0     5255\n",
      "88.0     5247\n",
      "Name: count, dtype: int64\n",
      "\n",
      "Value counts for column: Date\n",
      "Date\n",
      "2014-08-27    137731\n",
      "2014-08-28     72723\n",
      "2014-08-29     35610\n",
      "2015-02-21      7945\n",
      "2014-08-30      4848\n",
      "2014-09-01      2968\n",
      "2014-09-02      2279\n",
      "2015-02-24      1903\n",
      "2014-09-04      1535\n",
      "2014-09-08       781\n",
      "2015-05-06       756\n",
      "2014-09-05       744\n",
      "2014-10-02       415\n",
      "2014-09-20       415\n",
      "2015-06-25       410\n",
      "2014-12-01       409\n",
      "2015-09-26       377\n",
      "2014-09-11       375\n",
      "2015-02-22       374\n",
      "2015-08-17       372\n",
      "2015-08-25       372\n",
      "2014-09-09       371\n",
      "2014-08-31       371\n",
      "2014-09-14       370\n",
      "2015-04-23       368\n",
      "2014-12-15       368\n",
      "2015-04-02       367\n",
      "2015-04-11       367\n",
      "2015-07-27       365\n",
      "2014-09-13       365\n",
      "2014-11-16       365\n",
      "2014-09-23       365\n",
      "2016-02-01       362\n",
      "Name: count, dtype: int64\n",
      "\n",
      "Value counts for column: Time\n",
      "Time\n",
      "11:43:00    2630\n",
      "12:31:00    2211\n",
      "14:31:00    1934\n",
      "12:48:00    1866\n",
      "12:53:00    1568\n",
      "            ... \n",
      "13:46:00     362\n",
      "21:38:00     362\n",
      "06:48:00     361\n",
      "15:56:00     360\n",
      "22:13:00     359\n",
      "Name: count, Length: 488, dtype: int64\n"
     ]
    }
   ],
   "source": [
    "for column in df.columns:\n",
    "    print(f\"\\nValue counts for column: {column}\")\n",
    "    print(df[column].value_counts())"
   ]
  },
  {
   "cell_type": "markdown",
   "metadata": {},
   "source": [
    "### **Making Nominal Columns in Correct Form**"
   ]
  },
  {
   "cell_type": "code",
   "execution_count": 26,
   "metadata": {},
   "outputs": [],
   "source": [
    "for col in df.columns:\n",
    "    df[col] = df[col].replace([\"NiLL\", \"Null\", \"none\", \"n/a\", 'nill', 'N/A', 'NILL', 'N/a'], np.nan)\n",
    "    df[col] = df[col].replace(['NO', 'no'], 'No')\n",
    "    df[col] = df[col].replace(['YES', 'YEs'], 'Yes')"
   ]
  },
  {
   "cell_type": "code",
   "execution_count": 27,
   "metadata": {},
   "outputs": [
    {
     "name": "stdout",
     "output_type": "stream",
     "text": [
      "\n",
      "Value counts for column: Sex\n",
      "Sex\n",
      "Male      227858\n",
      "Female     49888\n",
      "Name: count, dtype: int64\n",
      "\n",
      "Value counts for column: Nation\n",
      "Nation\n",
      "United States               162815\n",
      "United Kingdom               48780\n",
      "Canada                       17785\n",
      "Australia                     5718\n",
      "Netherlands                   5594\n",
      "Ireland                       5275\n",
      "Germany                       4456\n",
      "Sweden                        2676\n",
      "India                         2633\n",
      "Brazil                        2223\n",
      "France                        2211\n",
      "South Africa                  1894\n",
      "New Zealand                   1888\n",
      "Switzerland                   1486\n",
      "Israel                        1483\n",
      "Italy                         1478\n",
      "Belgium                        780\n",
      "Poland                         777\n",
      "Greece                         748\n",
      "Singapore                      746\n",
      "Russia                         744\n",
      "Denmark                        740\n",
      "Thailand                       380\n",
      "Portugal                       373\n",
      "Croatia                        372\n",
      "Colombia                       371\n",
      "Moldova                        371\n",
      "Philippines                    371\n",
      "Mexico                         370\n",
      "Georgia                        370\n",
      "Finland                        368\n",
      "Czech Republic                 365\n",
      "Bosnia and Herzegovina         365\n",
      "Nigeria                        363\n",
      "Costa Rica                     362\n",
      "US                               4\n",
      "USA                              3\n",
      "UK                               2\n",
      "Usa                              2\n",
      "England                          1\n",
      "Uk                               1\n",
      "United States of America         1\n",
      "Name: count, dtype: int64\n",
      "\n",
      "Value counts for column: Job\n",
      "Job\n",
      "Housewife      62985\n",
      "Student        58757\n",
      "Corporate      58150\n",
      "Others         50199\n",
      "Business       47652\n",
      "Not Defined        3\n",
      "Name: count, dtype: int64\n",
      "\n",
      "Value counts for column: Freelance_Status\n",
      "Freelance_Status\n",
      "No     245079\n",
      "Yes     27701\n",
      "Name: count, dtype: int64\n",
      "\n",
      "Value counts for column: Genetic_Background\n",
      "Genetic_Background\n",
      "No     167962\n",
      "Yes    109780\n",
      "Name: count, dtype: int64\n",
      "\n",
      "Value counts for column: Therapy\n",
      "Therapy\n",
      "Yes    140241\n",
      "No     137504\n",
      "Name: count, dtype: int64\n",
      "\n",
      "Value counts for column: Indoor_Days\n",
      "Indoor_Days\n",
      "1-14 days             60418\n",
      "31-60 days            57664\n",
      "Go out Every day      55402\n",
      "More than 2 months    53110\n",
      "15-30 days            51148\n",
      "Go out Every Day          1\n",
      "Name: count, dtype: int64\n",
      "\n",
      "Value counts for column: Increasing_Stress\n",
      "Increasing_Stress\n",
      "Maybe    95088\n",
      "Yes      94622\n",
      "No       88036\n",
      "Name: count, dtype: int64\n",
      "\n",
      "Value counts for column: Habit_Changes\n",
      "Habit_Changes\n",
      "Yes      104111\n",
      "Maybe     90371\n",
      "No        83264\n",
      "Name: count, dtype: int64\n",
      "\n",
      "Value counts for column: Psychological_History\n",
      "Psychological_History\n",
      "No       98883\n",
      "Maybe    90511\n",
      "Yes      88350\n",
      "Name: count, dtype: int64\n",
      "\n",
      "Value counts for column: Emotional_Fluctuations\n",
      "Emotional_Fluctuations\n",
      "Medium    96007\n",
      "Low       94765\n",
      "High      86974\n",
      "Name: count, dtype: int64\n",
      "\n",
      "Value counts for column: Adaptation_Challenges\n",
      "Adaptation_Challenges\n",
      "No     146554\n",
      "Yes    131191\n",
      "Name: count, dtype: int64\n",
      "\n",
      "Value counts for column: Job_Engagement\n",
      "Job_Engagement\n",
      "No       100522\n",
      "Maybe     96136\n",
      "Yes       81081\n",
      "Name: count, dtype: int64\n",
      "\n",
      "Value counts for column: Social_Vulnerability\n",
      "Social_Vulnerability\n",
      "Maybe    98197\n",
      "No       92450\n",
      "Yes      87099\n",
      "Name: count, dtype: int64\n",
      "\n",
      "Value counts for column: Psych_Evaluation\n",
      "Psych_Evaluation\n",
      "No       220520\n",
      "Maybe     49019\n",
      "Yes        8204\n",
      "Name: count, dtype: int64\n",
      "\n",
      "Value counts for column: Support_Options\n",
      "Support_Options\n",
      "No          112982\n",
      "Yes          90912\n",
      "Not sure     73847\n",
      "Name: count, dtype: int64\n",
      "\n",
      "Value counts for column: Body_Weight\n",
      "Body_Weight\n",
      "53.0     5627\n",
      "76.0     5611\n",
      "54.0     5589\n",
      "71.0     5572\n",
      "87.0     5553\n",
      "78.0     5536\n",
      "68.0     5523\n",
      "55.0     5522\n",
      "73.0     5520\n",
      "86.0     5513\n",
      "63.0     5512\n",
      "74.0     5510\n",
      "65.0     5501\n",
      "57.0     5501\n",
      "95.0     5490\n",
      "50.0     5485\n",
      "84.0     5479\n",
      "93.0     5476\n",
      "83.0     5475\n",
      "69.0     5467\n",
      "85.0     5461\n",
      "59.0     5461\n",
      "67.0     5460\n",
      "56.0     5456\n",
      "89.0     5450\n",
      "60.0     5450\n",
      "90.0     5447\n",
      "58.0     5447\n",
      "75.0     5444\n",
      "62.0     5442\n",
      "77.0     5442\n",
      "52.0     5436\n",
      "81.0     5433\n",
      "94.0     5431\n",
      "79.0     5430\n",
      "97.0     5427\n",
      "98.0     5419\n",
      "91.0     5402\n",
      "70.0     5398\n",
      "100.0    5374\n",
      "66.0     5372\n",
      "61.0     5371\n",
      "80.0     5369\n",
      "99.0     5364\n",
      "51.0     5357\n",
      "72.0     5345\n",
      "92.0     5321\n",
      "96.0     5289\n",
      "64.0     5283\n",
      "82.0     5255\n",
      "88.0     5247\n",
      "Name: count, dtype: int64\n",
      "\n",
      "Value counts for column: Date\n",
      "Date\n",
      "2014-08-27    137731\n",
      "2014-08-28     72723\n",
      "2014-08-29     35610\n",
      "2015-02-21      7945\n",
      "2014-08-30      4848\n",
      "2014-09-01      2968\n",
      "2014-09-02      2279\n",
      "2015-02-24      1903\n",
      "2014-09-04      1535\n",
      "2014-09-08       781\n",
      "2015-05-06       756\n",
      "2014-09-05       744\n",
      "2014-10-02       415\n",
      "2014-09-20       415\n",
      "2015-06-25       410\n",
      "2014-12-01       409\n",
      "2015-09-26       377\n",
      "2014-09-11       375\n",
      "2015-02-22       374\n",
      "2015-08-17       372\n",
      "2015-08-25       372\n",
      "2014-09-09       371\n",
      "2014-08-31       371\n",
      "2014-09-14       370\n",
      "2015-04-23       368\n",
      "2014-12-15       368\n",
      "2015-04-02       367\n",
      "2015-04-11       367\n",
      "2015-07-27       365\n",
      "2014-09-13       365\n",
      "2014-11-16       365\n",
      "2014-09-23       365\n",
      "2016-02-01       362\n",
      "Name: count, dtype: int64\n",
      "\n",
      "Value counts for column: Time\n",
      "Time\n",
      "11:43:00    2630\n",
      "12:31:00    2211\n",
      "14:31:00    1934\n",
      "12:48:00    1866\n",
      "12:53:00    1568\n",
      "            ... \n",
      "13:46:00     362\n",
      "21:38:00     362\n",
      "06:48:00     361\n",
      "15:56:00     360\n",
      "22:13:00     359\n",
      "Name: count, Length: 488, dtype: int64\n"
     ]
    }
   ],
   "source": [
    "for column in df.columns:\n",
    "    print(f\"\\nValue counts for column: {column}\")\n",
    "    print(df[column].value_counts())"
   ]
  },
  {
   "cell_type": "markdown",
   "metadata": {},
   "source": [
    "## **Handling Outliers**"
   ]
  },
  {
   "cell_type": "code",
   "execution_count": 28,
   "metadata": {},
   "outputs": [
    {
     "data": {
      "image/png": "[encoded data removed]",
      "text/plain": [
       "<Figure size 1500x500 with 1 Axes>"
      ]
     },
     "metadata": {},
     "output_type": "display_data"
    }
   ],
   "source": [
    "numeric_columns = df.select_dtypes(include=['float64', 'int64']).columns\n",
    "\n",
    "plt.figure(figsize=(15, len(numeric_columns) * 5))\n",
    "\n",
    "for i, column in enumerate(numeric_columns):\n",
    "    plt.subplot(len(numeric_columns), 1, i + 1)\n",
    "    sns.boxplot(x=df[column])\n",
    "    plt.title(f'Boxplot of {column}')\n",
    "    plt.tight_layout()\n",
    "\n",
    "plt.show()"
   ]
  },
  {
   "cell_type": "markdown",
   "metadata": {},
   "source": [
    "# **Preprocessing of Data for Modeling**"
   ]
  },
  {
   "cell_type": "markdown",
   "metadata": {},
   "source": [
    "### **Dropping Date and Time as they are irrelevant for modeling**"
   ]
  },
  {
   "cell_type": "code",
   "execution_count": 29,
   "metadata": {},
   "outputs": [],
   "source": [
    "df.drop(columns=['Date','Time'], inplace=True)"
   ]
  },
  {
   "cell_type": "code",
   "execution_count": 30,
   "metadata": {},
   "outputs": [
    {
     "data": {
      "text/plain": [
       "Index(['Body_Weight'], dtype='object')"
      ]
     },
     "execution_count": 30,
     "metadata": {},
     "output_type": "execute_result"
    }
   ],
   "source": [
    "numeric_columns"
   ]
  },
  {
   "cell_type": "code",
   "execution_count": 31,
   "metadata": {},
   "outputs": [],
   "source": [
    "categorical_columns = [col for col in categorical_columns if col not in ['Date', 'Time']]"
   ]
  },
  {
   "cell_type": "code",
   "execution_count": 32,
   "metadata": {},
   "outputs": [
    {
     "data": {
      "text/plain": [
       "['Sex',\n",
       " 'Nation',\n",
       " 'Job',\n",
       " 'Freelance_Status',\n",
       " 'Genetic_Background',\n",
       " 'Therapy',\n",
       " 'Indoor_Days',\n",
       " 'Increasing_Stress',\n",
       " 'Habit_Changes',\n",
       " 'Psychological_History',\n",
       " 'Emotional_Fluctuations',\n",
       " 'Adaptation_Challenges',\n",
       " 'Job_Engagement',\n",
       " 'Social_Vulnerability',\n",
       " 'Psych_Evaluation',\n",
       " 'Support_Options']"
      ]
     },
     "execution_count": 32,
     "metadata": {},
     "output_type": "execute_result"
    }
   ],
   "source": [
    "categorical_columns"
   ]
  },
  {
   "cell_type": "code",
   "execution_count": 33,
   "metadata": {},
   "outputs": [],
   "source": [
    "X_train, X_test, y_train, y_test = train_test_split(df.drop(columns=['Emotional_Fluctuations']), \n",
    "                                                    df['Emotional_Fluctuations'],\n",
    "                                                    test_size=0.3,\n",
    "                                                    random_state=42)"
   ]
  },
  {
   "cell_type": "code",
   "execution_count": 34,
   "metadata": {},
   "outputs": [],
   "source": [
    "nominal_columns = [0, 1, 2, 3, 4, 5, 7, 8, 9, 10, 13]\n",
    "ordinal_columns = [6, 11, 12, 14]\n",
    "numeric_columns = [15]"
   ]
  },
  {
   "cell_type": "code",
   "execution_count": 35,
   "metadata": {},
   "outputs": [],
   "source": [
    "handle_numerical = Pipeline(steps=[\n",
    "    ('impute', SimpleImputer(strategy='mean')),\n",
    "    ('scale', MinMaxScaler())\n",
    "])"
   ]
  },
  {
   "cell_type": "code",
   "execution_count": 36,
   "metadata": {},
   "outputs": [],
   "source": [
    "handle_nominal = Pipeline(steps=[\n",
    "    ('impute', SimpleImputer(strategy='most_frequent')),\n",
    "    ('encode', OneHotEncoder())\n",
    "])"
   ]
  },
  {
   "cell_type": "code",
   "execution_count": 37,
   "metadata": {},
   "outputs": [],
   "source": [
    "handle_ordinal = Pipeline(steps=[\n",
    "    ('impute', SimpleImputer(strategy='most_frequent')),\n",
    "    ('encode', OrdinalEncoder())\n",
    "])"
   ]
  },
  {
   "cell_type": "code",
   "execution_count": 38,
   "metadata": {},
   "outputs": [],
   "source": [
    "preprocessing = ColumnTransformer(transformers=[\n",
    "    ('numerical', handle_numerical, numeric_columns),\n",
    "    ('nominal', handle_nominal, nominal_columns),\n",
    "    ('ordinal', handle_ordinal, ordinal_columns)\n",
    "], remainder='passthrough')"
   ]
  },
  {
   "cell_type": "markdown",
   "metadata": {},
   "source": [
    "## **Decision Tree Model**"
   ]
  },
  {
   "cell_type": "code",
   "execution_count": 39,
   "metadata": {},
   "outputs": [],
   "source": [
    "model_dt = DecisionTreeClassifier()"
   ]
  },
  {
   "cell_type": "code",
   "execution_count": 40,
   "metadata": {},
   "outputs": [],
   "source": [
    "pipe_dt = make_pipeline(preprocessing, model_dt)"
   ]
  },
  {
   "cell_type": "code",
   "execution_count": 41,
   "metadata": {},
   "outputs": [
    {
     "data": {
      "text/html": [
       "<style>#sk-container-id-1 {color: black;}#sk-container-id-1 pre{padding: 0;}#sk-container-id-1 div.sk-toggleable {background-color: white;}#sk-container-id-1 label.sk-toggleable__label {cursor: pointer;display: block;width: 100%;margin-bottom: 0;padding: 0.3em;box-sizing: border-box;text-align: center;}#sk-container-id-1 label.sk-toggleable__label-arrow:before {content: \"▸\";float: left;margin-right: 0.25em;color: #696969;}#sk-container-id-1 label.sk-toggleable__label-arrow:hover:before {color: black;}#sk-container-id-1 div.sk-estimator:hover label.sk-toggleable__label-arrow:before {color: black;}#sk-container-id-1 div.sk-toggleable__content {max-height: 0;max-width: 0;overflow: hidden;text-align: left;background-color: #f0f8ff;}#sk-container-id-1 div.sk-toggleable__content pre {margin: 0.2em;color: black;border-radius: 0.25em;background-color: #f0f8ff;}#sk-container-id-1 input.sk-toggleable__control:checked~div.sk-toggleable__content {max-height: 200px;max-width: 100%;overflow: auto;}#sk-container-id-1 input.sk-toggleable__control:checked~label.sk-toggleable__label-arrow:before {content: \"▾\";}#sk-container-id-1 div.sk-estimator input.sk-toggleable__control:checked~label.sk-toggleable__label {background-color: #d4ebff;}#sk-container-id-1 div.sk-label input.sk-toggleable__control:checked~label.sk-toggleable__label {background-color: #d4ebff;}#sk-container-id-1 input.sk-hidden--visually {border: 0;clip: rect(1px 1px 1px 1px);clip: rect(1px, 1px, 1px, 1px);height: 1px;margin: -1px;overflow: hidden;padding: 0;position: absolute;width: 1px;}#sk-container-id-1 div.sk-estimator {font-family: monospace;background-color: #f0f8ff;border: 1px dotted black;border-radius: 0.25em;box-sizing: border-box;margin-bottom: 0.5em;}#sk-container-id-1 div.sk-estimator:hover {background-color: #d4ebff;}#sk-container-id-1 div.sk-parallel-item::after {content: \"\";width: 100%;border-bottom: 1px solid gray;flex-grow: 1;}#sk-container-id-1 div.sk-label:hover label.sk-toggleable__label {background-color: #d4ebff;}#sk-container-id-1 div.sk-serial::before {content: \"\";position: absolute;border-left: 1px solid gray;box-sizing: border-box;top: 0;bottom: 0;left: 50%;z-index: 0;}#sk-container-id-1 div.sk-serial {display: flex;flex-direction: column;align-items: center;background-color: white;padding-right: 0.2em;padding-left: 0.2em;position: relative;}#sk-container-id-1 div.sk-item {position: relative;z-index: 1;}#sk-container-id-1 div.sk-parallel {display: flex;align-items: stretch;justify-content: center;background-color: white;position: relative;}#sk-container-id-1 div.sk-item::before, #sk-container-id-1 div.sk-parallel-item::before {content: \"\";position: absolute;border-left: 1px solid gray;box-sizing: border-box;top: 0;bottom: 0;left: 50%;z-index: -1;}#sk-container-id-1 div.sk-parallel-item {display: flex;flex-direction: column;z-index: 1;position: relative;background-color: white;}#sk-container-id-1 div.sk-parallel-item:first-child::after {align-self: flex-end;width: 50%;}#sk-container-id-1 div.sk-parallel-item:last-child::after {align-self: flex-start;width: 50%;}#sk-container-id-1 div.sk-parallel-item:only-child::after {width: 0;}#sk-container-id-1 div.sk-dashed-wrapped {border: 1px dashed gray;margin: 0 0.4em 0.5em 0.4em;box-sizing: border-box;padding-bottom: 0.4em;background-color: white;}#sk-container-id-1 div.sk-label label {font-family: monospace;font-weight: bold;display: inline-block;line-height: 1.2em;}#sk-container-id-1 div.sk-label-container {text-align: center;}#sk-container-id-1 div.sk-container {/* jupyter's `normalize.less` sets `[hidden] { display: none; }` but bootstrap.min.css set `[hidden] { display: none !important; }` so we also need the `!important` here to be able to override the default hidden behavior on the sphinx rendered scikit-learn.org. See: https://github.com/scikit-learn/scikit-learn/issues/21755 */display: inline-block !important;position: relative;}#sk-container-id-1 div.sk-text-repr-fallback {display: none;}</style><div id=\"sk-container-id-1\" class=\"sk-top-container\"><div class=\"sk-text-repr-fallback\"><pre>Pipeline(steps=[(&#x27;columntransformer&#x27;,\n",
       "                 ColumnTransformer(remainder=&#x27;passthrough&#x27;,\n",
       "                                   transformers=[(&#x27;numerical&#x27;,\n",
       "                                                  Pipeline(steps=[(&#x27;impute&#x27;,\n",
       "                                                                   SimpleImputer()),\n",
       "                                                                  (&#x27;scale&#x27;,\n",
       "                                                                   MinMaxScaler())]),\n",
       "                                                  [15]),\n",
       "                                                 (&#x27;nominal&#x27;,\n",
       "                                                  Pipeline(steps=[(&#x27;impute&#x27;,\n",
       "                                                                   SimpleImputer(strategy=&#x27;most_frequent&#x27;)),\n",
       "                                                                  (&#x27;encode&#x27;,\n",
       "                                                                   OneHotEncoder())]),\n",
       "                                                  [0, 1, 2, 3, 4, 5, 7, 8, 9,\n",
       "                                                   10, 13]),\n",
       "                                                 (&#x27;ordinal&#x27;,\n",
       "                                                  Pipeline(steps=[(&#x27;impute&#x27;,\n",
       "                                                                   SimpleImputer(strategy=&#x27;most_frequent&#x27;)),\n",
       "                                                                  (&#x27;encode&#x27;,\n",
       "                                                                   OrdinalEncoder())]),\n",
       "                                                  [6, 11, 12, 14])])),\n",
       "                (&#x27;decisiontreeclassifier&#x27;, DecisionTreeClassifier())])</pre><b>In a Jupyter environment, please rerun this cell to show the HTML representation or trust the notebook. <br />On GitHub, the HTML representation is unable to render, please try loading this page with nbviewer.org.</b></div><div class=\"sk-container\" hidden><div class=\"sk-item sk-dashed-wrapped\"><div class=\"sk-label-container\"><div class=\"sk-label sk-toggleable\"><input class=\"sk-toggleable__control sk-hidden--visually\" id=\"sk-estimator-id-1\" type=\"checkbox\" ><label for=\"sk-estimator-id-1\" class=\"sk-toggleable__label sk-toggleable__label-arrow\">Pipeline</label><div class=\"sk-toggleable__content\"><pre>Pipeline(steps=[(&#x27;columntransformer&#x27;,\n",
       "                 ColumnTransformer(remainder=&#x27;passthrough&#x27;,\n",
       "                                   transformers=[(&#x27;numerical&#x27;,\n",
       "                                                  Pipeline(steps=[(&#x27;impute&#x27;,\n",
       "                                                                   SimpleImputer()),\n",
       "                                                                  (&#x27;scale&#x27;,\n",
       "                                                                   MinMaxScaler())]),\n",
       "                                                  [15]),\n",
       "                                                 (&#x27;nominal&#x27;,\n",
       "                                                  Pipeline(steps=[(&#x27;impute&#x27;,\n",
       "                                                                   SimpleImputer(strategy=&#x27;most_frequent&#x27;)),\n",
       "                                                                  (&#x27;encode&#x27;,\n",
       "                                                                   OneHotEncoder())]),\n",
       "                                                  [0, 1, 2, 3, 4, 5, 7, 8, 9,\n",
       "                                                   10, 13]),\n",
       "                                                 (&#x27;ordinal&#x27;,\n",
       "                                                  Pipeline(steps=[(&#x27;impute&#x27;,\n",
       "                                                                   SimpleImputer(strategy=&#x27;most_frequent&#x27;)),\n",
       "                                                                  (&#x27;encode&#x27;,\n",
       "                                                                   OrdinalEncoder())]),\n",
       "                                                  [6, 11, 12, 14])])),\n",
       "                (&#x27;decisiontreeclassifier&#x27;, DecisionTreeClassifier())])</pre></div></div></div><div class=\"sk-serial\"><div class=\"sk-item sk-dashed-wrapped\"><div class=\"sk-label-container\"><div class=\"sk-label sk-toggleable\"><input class=\"sk-toggleable__control sk-hidden--visually\" id=\"sk-estimator-id-2\" type=\"checkbox\" ><label for=\"sk-estimator-id-2\" class=\"sk-toggleable__label sk-toggleable__label-arrow\">columntransformer: ColumnTransformer</label><div class=\"sk-toggleable__content\"><pre>ColumnTransformer(remainder=&#x27;passthrough&#x27;,\n",
       "                  transformers=[(&#x27;numerical&#x27;,\n",
       "                                 Pipeline(steps=[(&#x27;impute&#x27;, SimpleImputer()),\n",
       "                                                 (&#x27;scale&#x27;, MinMaxScaler())]),\n",
       "                                 [15]),\n",
       "                                (&#x27;nominal&#x27;,\n",
       "                                 Pipeline(steps=[(&#x27;impute&#x27;,\n",
       "                                                  SimpleImputer(strategy=&#x27;most_frequent&#x27;)),\n",
       "                                                 (&#x27;encode&#x27;, OneHotEncoder())]),\n",
       "                                 [0, 1, 2, 3, 4, 5, 7, 8, 9, 10, 13]),\n",
       "                                (&#x27;ordinal&#x27;,\n",
       "                                 Pipeline(steps=[(&#x27;impute&#x27;,\n",
       "                                                  SimpleImputer(strategy=&#x27;most_frequent&#x27;)),\n",
       "                                                 (&#x27;encode&#x27;, OrdinalEncoder())]),\n",
       "                                 [6, 11, 12, 14])])</pre></div></div></div><div class=\"sk-parallel\"><div class=\"sk-parallel-item\"><div class=\"sk-item\"><div class=\"sk-label-container\"><div class=\"sk-label sk-toggleable\"><input class=\"sk-toggleable__control sk-hidden--visually\" id=\"sk-estimator-id-3\" type=\"checkbox\" ><label for=\"sk-estimator-id-3\" class=\"sk-toggleable__label sk-toggleable__label-arrow\">numerical</label><div class=\"sk-toggleable__content\"><pre>[15]</pre></div></div></div><div class=\"sk-serial\"><div class=\"sk-item\"><div class=\"sk-serial\"><div class=\"sk-item\"><div class=\"sk-estimator sk-toggleable\"><input class=\"sk-toggleable__control sk-hidden--visually\" id=\"sk-estimator-id-4\" type=\"checkbox\" ><label for=\"sk-estimator-id-4\" class=\"sk-toggleable__label sk-toggleable__label-arrow\">SimpleImputer</label><div class=\"sk-toggleable__content\"><pre>SimpleImputer()</pre></div></div></div><div class=\"sk-item\"><div class=\"sk-estimator sk-toggleable\"><input class=\"sk-toggleable__control sk-hidden--visually\" id=\"sk-estimator-id-5\" type=\"checkbox\" ><label for=\"sk-estimator-id-5\" class=\"sk-toggleable__label sk-toggleable__label-arrow\">MinMaxScaler</label><div class=\"sk-toggleable__content\"><pre>MinMaxScaler()</pre></div></div></div></div></div></div></div></div><div class=\"sk-parallel-item\"><div class=\"sk-item\"><div class=\"sk-label-container\"><div class=\"sk-label sk-toggleable\"><input class=\"sk-toggleable__control sk-hidden--visually\" id=\"sk-estimator-id-6\" type=\"checkbox\" ><label for=\"sk-estimator-id-6\" class=\"sk-toggleable__label sk-toggleable__label-arrow\">nominal</label><div class=\"sk-toggleable__content\"><pre>[0, 1, 2, 3, 4, 5, 7, 8, 9, 10, 13]</pre></div></div></div><div class=\"sk-serial\"><div class=\"sk-item\"><div class=\"sk-serial\"><div class=\"sk-item\"><div class=\"sk-estimator sk-toggleable\"><input class=\"sk-toggleable__control sk-hidden--visually\" id=\"sk-estimator-id-7\" type=\"checkbox\" ><label for=\"sk-estimator-id-7\" class=\"sk-toggleable__label sk-toggleable__label-arrow\">SimpleImputer</label><div class=\"sk-toggleable__content\"><pre>SimpleImputer(strategy=&#x27;most_frequent&#x27;)</pre></div></div></div><div class=\"sk-item\"><div class=\"sk-estimator sk-toggleable\"><input class=\"sk-toggleable__control sk-hidden--visually\" id=\"sk-estimator-id-8\" type=\"checkbox\" ><label for=\"sk-estimator-id-8\" class=\"sk-toggleable__label sk-toggleable__label-arrow\">OneHotEncoder</label><div class=\"sk-toggleable__content\"><pre>OneHotEncoder()</pre></div></div></div></div></div></div></div></div><div class=\"sk-parallel-item\"><div class=\"sk-item\"><div class=\"sk-label-container\"><div class=\"sk-label sk-toggleable\"><input class=\"sk-toggleable__control sk-hidden--visually\" id=\"sk-estimator-id-9\" type=\"checkbox\" ><label for=\"sk-estimator-id-9\" class=\"sk-toggleable__label sk-toggleable__label-arrow\">ordinal</label><div class=\"sk-toggleable__content\"><pre>[6, 11, 12, 14]</pre></div></div></div><div class=\"sk-serial\"><div class=\"sk-item\"><div class=\"sk-serial\"><div class=\"sk-item\"><div class=\"sk-estimator sk-toggleable\"><input class=\"sk-toggleable__control sk-hidden--visually\" id=\"sk-estimator-id-10\" type=\"checkbox\" ><label for=\"sk-estimator-id-10\" class=\"sk-toggleable__label sk-toggleable__label-arrow\">SimpleImputer</label><div class=\"sk-toggleable__content\"><pre>SimpleImputer(strategy=&#x27;most_frequent&#x27;)</pre></div></div></div><div class=\"sk-item\"><div class=\"sk-estimator sk-toggleable\"><input class=\"sk-toggleable__control sk-hidden--visually\" id=\"sk-estimator-id-11\" type=\"checkbox\" ><label for=\"sk-estimator-id-11\" class=\"sk-toggleable__label sk-toggleable__label-arrow\">OrdinalEncoder</label><div class=\"sk-toggleable__content\"><pre>OrdinalEncoder()</pre></div></div></div></div></div></div></div></div><div class=\"sk-parallel-item\"><div class=\"sk-item\"><div class=\"sk-label-container\"><div class=\"sk-label sk-toggleable\"><input class=\"sk-toggleable__control sk-hidden--visually\" id=\"sk-estimator-id-12\" type=\"checkbox\" ><label for=\"sk-estimator-id-12\" class=\"sk-toggleable__label sk-toggleable__label-arrow\">remainder</label><div class=\"sk-toggleable__content\"><pre>[]</pre></div></div></div><div class=\"sk-serial\"><div class=\"sk-item\"><div class=\"sk-estimator sk-toggleable\"><input class=\"sk-toggleable__control sk-hidden--visually\" id=\"sk-estimator-id-13\" type=\"checkbox\" ><label for=\"sk-estimator-id-13\" class=\"sk-toggleable__label sk-toggleable__label-arrow\">passthrough</label><div class=\"sk-toggleable__content\"><pre>passthrough</pre></div></div></div></div></div></div></div></div><div class=\"sk-item\"><div class=\"sk-estimator sk-toggleable\"><input class=\"sk-toggleable__control sk-hidden--visually\" id=\"sk-estimator-id-14\" type=\"checkbox\" ><label for=\"sk-estimator-id-14\" class=\"sk-toggleable__label sk-toggleable__label-arrow\">DecisionTreeClassifier</label><div class=\"sk-toggleable__content\"><pre>DecisionTreeClassifier()</pre></div></div></div></div></div></div></div>"
      ],
      "text/plain": [
       "Pipeline(steps=[('columntransformer',\n",
       "                 ColumnTransformer(remainder='passthrough',\n",
       "                                   transformers=[('numerical',\n",
       "                                                  Pipeline(steps=[('impute',\n",
       "                                                                   SimpleImputer()),\n",
       "                                                                  ('scale',\n",
       "                                                                   MinMaxScaler())]),\n",
       "                                                  [15]),\n",
       "                                                 ('nominal',\n",
       "                                                  Pipeline(steps=[('impute',\n",
       "                                                                   SimpleImputer(strategy='most_frequent')),\n",
       "                                                                  ('encode',\n",
       "                                                                   OneHotEncoder())]),\n",
       "                                                  [0, 1, 2, 3, 4, 5, 7, 8, 9,\n",
       "                                                   10, 13]),\n",
       "                                                 ('ordinal',\n",
       "                                                  Pipeline(steps=[('impute',\n",
       "                                                                   SimpleImputer(strategy='most_frequent')),\n",
       "                                                                  ('encode',\n",
       "                                                                   OrdinalEncoder())]),\n",
       "                                                  [6, 11, 12, 14])])),\n",
       "                ('decisiontreeclassifier', DecisionTreeClassifier())])"
      ]
     },
     "execution_count": 41,
     "metadata": {},
     "output_type": "execute_result"
    }
   ],
   "source": [
    "pipe_dt.fit(X_train, y_train)"
   ]
  },
  {
   "cell_type": "code",
   "execution_count": 42,
   "metadata": {},
   "outputs": [],
   "source": [
    "y_pred_dt = pipe_dt.predict(X_test)"
   ]
  },
  {
   "cell_type": "code",
   "execution_count": 43,
   "metadata": {},
   "outputs": [
    {
     "name": "stdout",
     "output_type": "stream",
     "text": [
      "              precision    recall  f1-score   support\n",
      "\n",
      "        High       0.98      0.97      0.98     26020\n",
      "         Low       0.99      0.99      0.99     28602\n",
      "      Medium       0.97      0.98      0.97     28702\n",
      "\n",
      "    accuracy                           0.98     83324\n",
      "   macro avg       0.98      0.98      0.98     83324\n",
      "weighted avg       0.98      0.98      0.98     83324\n",
      "\n"
     ]
    }
   ],
   "source": [
    "print(classification_report(y_pred_dt, y_test))"
   ]
  },
  {
   "cell_type": "code",
   "execution_count": 44,
   "metadata": {},
   "outputs": [
    {
     "data": {
      "image/png": "[encoded data removed]",
      "text/plain": [
       "<Figure size 640x480 with 2 Axes>"
      ]
     },
     "metadata": {},
     "output_type": "display_data"
    }
   ],
   "source": [
    "unique_classes = np.unique(np.concatenate([y_test, y_pred_dt]))\n",
    "\n",
    "cm = confusion_matrix(y_test, y_pred_dt, labels=unique_classes)\n",
    "\n",
    "disp = ConfusionMatrixDisplay(confusion_matrix=cm, display_labels=unique_classes)\n",
    "disp.plot(cmap='Blues')\n",
    "plt.show()"
   ]
  },
  {
   "cell_type": "markdown",
   "metadata": {},
   "source": [
    "## **Random Forest Model**"
   ]
  },
  {
   "cell_type": "code",
   "execution_count": 45,
   "metadata": {},
   "outputs": [],
   "source": [
    "model_rf = RandomForestClassifier()"
   ]
  },
  {
   "cell_type": "code",
   "execution_count": 46,
   "metadata": {},
   "outputs": [],
   "source": [
    "pipe_rf = make_pipeline(preprocessing, model_rf)"
   ]
  },
  {
   "cell_type": "code",
   "execution_count": 47,
   "metadata": {},
   "outputs": [
    {
     "data": {
      "text/html": [
       "<style>#sk-container-id-2 {color: black;}#sk-container-id-2 pre{padding: 0;}#sk-container-id-2 div.sk-toggleable {background-color: white;}#sk-container-id-2 label.sk-toggleable__label {cursor: pointer;display: block;width: 100%;margin-bottom: 0;padding: 0.3em;box-sizing: border-box;text-align: center;}#sk-container-id-2 label.sk-toggleable__label-arrow:before {content: \"▸\";float: left;margin-right: 0.25em;color: #696969;}#sk-container-id-2 label.sk-toggleable__label-arrow:hover:before {color: black;}#sk-container-id-2 div.sk-estimator:hover label.sk-toggleable__label-arrow:before {color: black;}#sk-container-id-2 div.sk-toggleable__content {max-height: 0;max-width: 0;overflow: hidden;text-align: left;background-color: #f0f8ff;}#sk-container-id-2 div.sk-toggleable__content pre {margin: 0.2em;color: black;border-radius: 0.25em;background-color: #f0f8ff;}#sk-container-id-2 input.sk-toggleable__control:checked~div.sk-toggleable__content {max-height: 200px;max-width: 100%;overflow: auto;}#sk-container-id-2 input.sk-toggleable__control:checked~label.sk-toggleable__label-arrow:before {content: \"▾\";}#sk-container-id-2 div.sk-estimator input.sk-toggleable__control:checked~label.sk-toggleable__label {background-color: #d4ebff;}#sk-container-id-2 div.sk-label input.sk-toggleable__control:checked~label.sk-toggleable__label {background-color: #d4ebff;}#sk-container-id-2 input.sk-hidden--visually {border: 0;clip: rect(1px 1px 1px 1px);clip: rect(1px, 1px, 1px, 1px);height: 1px;margin: -1px;overflow: hidden;padding: 0;position: absolute;width: 1px;}#sk-container-id-2 div.sk-estimator {font-family: monospace;background-color: #f0f8ff;border: 1px dotted black;border-radius: 0.25em;box-sizing: border-box;margin-bottom: 0.5em;}#sk-container-id-2 div.sk-estimator:hover {background-color: #d4ebff;}#sk-container-id-2 div.sk-parallel-item::after {content: \"\";width: 100%;border-bottom: 1px solid gray;flex-grow: 1;}#sk-container-id-2 div.sk-label:hover label.sk-toggleable__label {background-color: #d4ebff;}#sk-container-id-2 div.sk-serial::before {content: \"\";position: absolute;border-left: 1px solid gray;box-sizing: border-box;top: 0;bottom: 0;left: 50%;z-index: 0;}#sk-container-id-2 div.sk-serial {display: flex;flex-direction: column;align-items: center;background-color: white;padding-right: 0.2em;padding-left: 0.2em;position: relative;}#sk-container-id-2 div.sk-item {position: relative;z-index: 1;}#sk-container-id-2 div.sk-parallel {display: flex;align-items: stretch;justify-content: center;background-color: white;position: relative;}#sk-container-id-2 div.sk-item::before, #sk-container-id-2 div.sk-parallel-item::before {content: \"\";position: absolute;border-left: 1px solid gray;box-sizing: border-box;top: 0;bottom: 0;left: 50%;z-index: -1;}#sk-container-id-2 div.sk-parallel-item {display: flex;flex-direction: column;z-index: 1;position: relative;background-color: white;}#sk-container-id-2 div.sk-parallel-item:first-child::after {align-self: flex-end;width: 50%;}#sk-container-id-2 div.sk-parallel-item:last-child::after {align-self: flex-start;width: 50%;}#sk-container-id-2 div.sk-parallel-item:only-child::after {width: 0;}#sk-container-id-2 div.sk-dashed-wrapped {border: 1px dashed gray;margin: 0 0.4em 0.5em 0.4em;box-sizing: border-box;padding-bottom: 0.4em;background-color: white;}#sk-container-id-2 div.sk-label label {font-family: monospace;font-weight: bold;display: inline-block;line-height: 1.2em;}#sk-container-id-2 div.sk-label-container {text-align: center;}#sk-container-id-2 div.sk-container {/* jupyter's `normalize.less` sets `[hidden] { display: none; }` but bootstrap.min.css set `[hidden] { display: none !important; }` so we also need the `!important` here to be able to override the default hidden behavior on the sphinx rendered scikit-learn.org. See: https://github.com/scikit-learn/scikit-learn/issues/21755 */display: inline-block !important;position: relative;}#sk-container-id-2 div.sk-text-repr-fallback {display: none;}</style><div id=\"sk-container-id-2\" class=\"sk-top-container\"><div class=\"sk-text-repr-fallback\"><pre>Pipeline(steps=[(&#x27;columntransformer&#x27;,\n",
       "                 ColumnTransformer(remainder=&#x27;passthrough&#x27;,\n",
       "                                   transformers=[(&#x27;numerical&#x27;,\n",
       "                                                  Pipeline(steps=[(&#x27;impute&#x27;,\n",
       "                                                                   SimpleImputer()),\n",
       "                                                                  (&#x27;scale&#x27;,\n",
       "                                                                   MinMaxScaler())]),\n",
       "                                                  [15]),\n",
       "                                                 (&#x27;nominal&#x27;,\n",
       "                                                  Pipeline(steps=[(&#x27;impute&#x27;,\n",
       "                                                                   SimpleImputer(strategy=&#x27;most_frequent&#x27;)),\n",
       "                                                                  (&#x27;encode&#x27;,\n",
       "                                                                   OneHotEncoder())]),\n",
       "                                                  [0, 1, 2, 3, 4, 5, 7, 8, 9,\n",
       "                                                   10, 13]),\n",
       "                                                 (&#x27;ordinal&#x27;,\n",
       "                                                  Pipeline(steps=[(&#x27;impute&#x27;,\n",
       "                                                                   SimpleImputer(strategy=&#x27;most_frequent&#x27;)),\n",
       "                                                                  (&#x27;encode&#x27;,\n",
       "                                                                   OrdinalEncoder())]),\n",
       "                                                  [6, 11, 12, 14])])),\n",
       "                (&#x27;randomforestclassifier&#x27;, RandomForestClassifier())])</pre><b>In a Jupyter environment, please rerun this cell to show the HTML representation or trust the notebook. <br />On GitHub, the HTML representation is unable to render, please try loading this page with nbviewer.org.</b></div><div class=\"sk-container\" hidden><div class=\"sk-item sk-dashed-wrapped\"><div class=\"sk-label-container\"><div class=\"sk-label sk-toggleable\"><input class=\"sk-toggleable__control sk-hidden--visually\" id=\"sk-estimator-id-15\" type=\"checkbox\" ><label for=\"sk-estimator-id-15\" class=\"sk-toggleable__label sk-toggleable__label-arrow\">Pipeline</label><div class=\"sk-toggleable__content\"><pre>Pipeline(steps=[(&#x27;columntransformer&#x27;,\n",
       "                 ColumnTransformer(remainder=&#x27;passthrough&#x27;,\n",
       "                                   transformers=[(&#x27;numerical&#x27;,\n",
       "                                                  Pipeline(steps=[(&#x27;impute&#x27;,\n",
       "                                                                   SimpleImputer()),\n",
       "                                                                  (&#x27;scale&#x27;,\n",
       "                                                                   MinMaxScaler())]),\n",
       "                                                  [15]),\n",
       "                                                 (&#x27;nominal&#x27;,\n",
       "                                                  Pipeline(steps=[(&#x27;impute&#x27;,\n",
       "                                                                   SimpleImputer(strategy=&#x27;most_frequent&#x27;)),\n",
       "                                                                  (&#x27;encode&#x27;,\n",
       "                                                                   OneHotEncoder())]),\n",
       "                                                  [0, 1, 2, 3, 4, 5, 7, 8, 9,\n",
       "                                                   10, 13]),\n",
       "                                                 (&#x27;ordinal&#x27;,\n",
       "                                                  Pipeline(steps=[(&#x27;impute&#x27;,\n",
       "                                                                   SimpleImputer(strategy=&#x27;most_frequent&#x27;)),\n",
       "                                                                  (&#x27;encode&#x27;,\n",
       "                                                                   OrdinalEncoder())]),\n",
       "                                                  [6, 11, 12, 14])])),\n",
       "                (&#x27;randomforestclassifier&#x27;, RandomForestClassifier())])</pre></div></div></div><div class=\"sk-serial\"><div class=\"sk-item sk-dashed-wrapped\"><div class=\"sk-label-container\"><div class=\"sk-label sk-toggleable\"><input class=\"sk-toggleable__control sk-hidden--visually\" id=\"sk-estimator-id-16\" type=\"checkbox\" ><label for=\"sk-estimator-id-16\" class=\"sk-toggleable__label sk-toggleable__label-arrow\">columntransformer: ColumnTransformer</label><div class=\"sk-toggleable__content\"><pre>ColumnTransformer(remainder=&#x27;passthrough&#x27;,\n",
       "                  transformers=[(&#x27;numerical&#x27;,\n",
       "                                 Pipeline(steps=[(&#x27;impute&#x27;, SimpleImputer()),\n",
       "                                                 (&#x27;scale&#x27;, MinMaxScaler())]),\n",
       "                                 [15]),\n",
       "                                (&#x27;nominal&#x27;,\n",
       "                                 Pipeline(steps=[(&#x27;impute&#x27;,\n",
       "                                                  SimpleImputer(strategy=&#x27;most_frequent&#x27;)),\n",
       "                                                 (&#x27;encode&#x27;, OneHotEncoder())]),\n",
       "                                 [0, 1, 2, 3, 4, 5, 7, 8, 9, 10, 13]),\n",
       "                                (&#x27;ordinal&#x27;,\n",
       "                                 Pipeline(steps=[(&#x27;impute&#x27;,\n",
       "                                                  SimpleImputer(strategy=&#x27;most_frequent&#x27;)),\n",
       "                                                 (&#x27;encode&#x27;, OrdinalEncoder())]),\n",
       "                                 [6, 11, 12, 14])])</pre></div></div></div><div class=\"sk-parallel\"><div class=\"sk-parallel-item\"><div class=\"sk-item\"><div class=\"sk-label-container\"><div class=\"sk-label sk-toggleable\"><input class=\"sk-toggleable__control sk-hidden--visually\" id=\"sk-estimator-id-17\" type=\"checkbox\" ><label for=\"sk-estimator-id-17\" class=\"sk-toggleable__label sk-toggleable__label-arrow\">numerical</label><div class=\"sk-toggleable__content\"><pre>[15]</pre></div></div></div><div class=\"sk-serial\"><div class=\"sk-item\"><div class=\"sk-serial\"><div class=\"sk-item\"><div class=\"sk-estimator sk-toggleable\"><input class=\"sk-toggleable__control sk-hidden--visually\" id=\"sk-estimator-id-18\" type=\"checkbox\" ><label for=\"sk-estimator-id-18\" class=\"sk-toggleable__label sk-toggleable__label-arrow\">SimpleImputer</label><div class=\"sk-toggleable__content\"><pre>SimpleImputer()</pre></div></div></div><div class=\"sk-item\"><div class=\"sk-estimator sk-toggleable\"><input class=\"sk-toggleable__control sk-hidden--visually\" id=\"sk-estimator-id-19\" type=\"checkbox\" ><label for=\"sk-estimator-id-19\" class=\"sk-toggleable__label sk-toggleable__label-arrow\">MinMaxScaler</label><div class=\"sk-toggleable__content\"><pre>MinMaxScaler()</pre></div></div></div></div></div></div></div></div><div class=\"sk-parallel-item\"><div class=\"sk-item\"><div class=\"sk-label-container\"><div class=\"sk-label sk-toggleable\"><input class=\"sk-toggleable__control sk-hidden--visually\" id=\"sk-estimator-id-20\" type=\"checkbox\" ><label for=\"sk-estimator-id-20\" class=\"sk-toggleable__label sk-toggleable__label-arrow\">nominal</label><div class=\"sk-toggleable__content\"><pre>[0, 1, 2, 3, 4, 5, 7, 8, 9, 10, 13]</pre></div></div></div><div class=\"sk-serial\"><div class=\"sk-item\"><div class=\"sk-serial\"><div class=\"sk-item\"><div class=\"sk-estimator sk-toggleable\"><input class=\"sk-toggleable__control sk-hidden--visually\" id=\"sk-estimator-id-21\" type=\"checkbox\" ><label for=\"sk-estimator-id-21\" class=\"sk-toggleable__label sk-toggleable__label-arrow\">SimpleImputer</label><div class=\"sk-toggleable__content\"><pre>SimpleImputer(strategy=&#x27;most_frequent&#x27;)</pre></div></div></div><div class=\"sk-item\"><div class=\"sk-estimator sk-toggleable\"><input class=\"sk-toggleable__control sk-hidden--visually\" id=\"sk-estimator-id-22\" type=\"checkbox\" ><label for=\"sk-estimator-id-22\" class=\"sk-toggleable__label sk-toggleable__label-arrow\">OneHotEncoder</label><div class=\"sk-toggleable__content\"><pre>OneHotEncoder()</pre></div></div></div></div></div></div></div></div><div class=\"sk-parallel-item\"><div class=\"sk-item\"><div class=\"sk-label-container\"><div class=\"sk-label sk-toggleable\"><input class=\"sk-toggleable__control sk-hidden--visually\" id=\"sk-estimator-id-23\" type=\"checkbox\" ><label for=\"sk-estimator-id-23\" class=\"sk-toggleable__label sk-toggleable__label-arrow\">ordinal</label><div class=\"sk-toggleable__content\"><pre>[6, 11, 12, 14]</pre></div></div></div><div class=\"sk-serial\"><div class=\"sk-item\"><div class=\"sk-serial\"><div class=\"sk-item\"><div class=\"sk-estimator sk-toggleable\"><input class=\"sk-toggleable__control sk-hidden--visually\" id=\"sk-estimator-id-24\" type=\"checkbox\" ><label for=\"sk-estimator-id-24\" class=\"sk-toggleable__label sk-toggleable__label-arrow\">SimpleImputer</label><div class=\"sk-toggleable__content\"><pre>SimpleImputer(strategy=&#x27;most_frequent&#x27;)</pre></div></div></div><div class=\"sk-item\"><div class=\"sk-estimator sk-toggleable\"><input class=\"sk-toggleable__control sk-hidden--visually\" id=\"sk-estimator-id-25\" type=\"checkbox\" ><label for=\"sk-estimator-id-25\" class=\"sk-toggleable__label sk-toggleable__label-arrow\">OrdinalEncoder</label><div class=\"sk-toggleable__content\"><pre>OrdinalEncoder()</pre></div></div></div></div></div></div></div></div><div class=\"sk-parallel-item\"><div class=\"sk-item\"><div class=\"sk-label-container\"><div class=\"sk-label sk-toggleable\"><input class=\"sk-toggleable__control sk-hidden--visually\" id=\"sk-estimator-id-26\" type=\"checkbox\" ><label for=\"sk-estimator-id-26\" class=\"sk-toggleable__label sk-toggleable__label-arrow\">remainder</label><div class=\"sk-toggleable__content\"><pre>[]</pre></div></div></div><div class=\"sk-serial\"><div class=\"sk-item\"><div class=\"sk-estimator sk-toggleable\"><input class=\"sk-toggleable__control sk-hidden--visually\" id=\"sk-estimator-id-27\" type=\"checkbox\" ><label for=\"sk-estimator-id-27\" class=\"sk-toggleable__label sk-toggleable__label-arrow\">passthrough</label><div class=\"sk-toggleable__content\"><pre>passthrough</pre></div></div></div></div></div></div></div></div><div class=\"sk-item\"><div class=\"sk-estimator sk-toggleable\"><input class=\"sk-toggleable__control sk-hidden--visually\" id=\"sk-estimator-id-28\" type=\"checkbox\" ><label for=\"sk-estimator-id-28\" class=\"sk-toggleable__label sk-toggleable__label-arrow\">RandomForestClassifier</label><div class=\"sk-toggleable__content\"><pre>RandomForestClassifier()</pre></div></div></div></div></div></div></div>"
      ],
      "text/plain": [
       "Pipeline(steps=[('columntransformer',\n",
       "                 ColumnTransformer(remainder='passthrough',\n",
       "                                   transformers=[('numerical',\n",
       "                                                  Pipeline(steps=[('impute',\n",
       "                                                                   SimpleImputer()),\n",
       "                                                                  ('scale',\n",
       "                                                                   MinMaxScaler())]),\n",
       "                                                  [15]),\n",
       "                                                 ('nominal',\n",
       "                                                  Pipeline(steps=[('impute',\n",
       "                                                                   SimpleImputer(strategy='most_frequent')),\n",
       "                                                                  ('encode',\n",
       "                                                                   OneHotEncoder())]),\n",
       "                                                  [0, 1, 2, 3, 4, 5, 7, 8, 9,\n",
       "                                                   10, 13]),\n",
       "                                                 ('ordinal',\n",
       "                                                  Pipeline(steps=[('impute',\n",
       "                                                                   SimpleImputer(strategy='most_frequent')),\n",
       "                                                                  ('encode',\n",
       "                                                                   OrdinalEncoder())]),\n",
       "                                                  [6, 11, 12, 14])])),\n",
       "                ('randomforestclassifier', RandomForestClassifier())])"
      ]
     },
     "execution_count": 47,
     "metadata": {},
     "output_type": "execute_result"
    }
   ],
   "source": [
    "pipe_rf.fit(X_train, y_train)"
   ]
  },
  {
   "cell_type": "code",
   "execution_count": 48,
   "metadata": {},
   "outputs": [],
   "source": [
    "y_pred_rf = pipe_rf.predict(X_test)"
   ]
  },
  {
   "cell_type": "code",
   "execution_count": 49,
   "metadata": {},
   "outputs": [
    {
     "name": "stdout",
     "output_type": "stream",
     "text": [
      "              precision    recall  f1-score   support\n",
      "\n",
      "        High       0.97      0.97      0.97     25952\n",
      "         Low       0.99      0.99      0.99     28544\n",
      "      Medium       0.97      0.97      0.97     28828\n",
      "\n",
      "    accuracy                           0.98     83324\n",
      "   macro avg       0.98      0.98      0.98     83324\n",
      "weighted avg       0.98      0.98      0.98     83324\n",
      "\n"
     ]
    }
   ],
   "source": [
    "print(classification_report(y_pred_rf, y_test))"
   ]
  },
  {
   "cell_type": "code",
   "execution_count": 50,
   "metadata": {},
   "outputs": [
    {
     "data": {
      "image/png": "[encoded data removed]",
      "text/plain": [
       "<Figure size 640x480 with 2 Axes>"
      ]
     },
     "metadata": {},
     "output_type": "display_data"
    }
   ],
   "source": [
    "unique_classes = np.unique(np.concatenate([y_test, y_pred_dt]))\n",
    "\n",
    "cm = confusion_matrix(y_test, y_pred_dt, labels=unique_classes)\n",
    "\n",
    "disp = ConfusionMatrixDisplay(confusion_matrix=cm, display_labels=unique_classes)\n",
    "disp.plot(cmap='Blues')\n",
    "plt.show()"
   ]
  },
  {
   "cell_type": "markdown",
   "metadata": {},
   "source": [
    "## **Voting Classifier**"
   ]
  },
  {
   "cell_type": "code",
   "execution_count": 57,
   "metadata": {},
   "outputs": [],
   "source": [
    "voting = VotingClassifier(estimators=[\n",
    "    ('dt', pipe_dt),\n",
    "    ('rf', pipe_rf)\n",
    "], voting='soft')"
   ]
  },
  {
   "cell_type": "code",
   "execution_count": 58,
   "metadata": {},
   "outputs": [
    {
     "data": {
      "text/html": [
       "<style>#sk-container-id-3 {color: black;}#sk-container-id-3 pre{padding: 0;}#sk-container-id-3 div.sk-toggleable {background-color: white;}#sk-container-id-3 label.sk-toggleable__label {cursor: pointer;display: block;width: 100%;margin-bottom: 0;padding: 0.3em;box-sizing: border-box;text-align: center;}#sk-container-id-3 label.sk-toggleable__label-arrow:before {content: \"▸\";float: left;margin-right: 0.25em;color: #696969;}#sk-container-id-3 label.sk-toggleable__label-arrow:hover:before {color: black;}#sk-container-id-3 div.sk-estimator:hover label.sk-toggleable__label-arrow:before {color: black;}#sk-container-id-3 div.sk-toggleable__content {max-height: 0;max-width: 0;overflow: hidden;text-align: left;background-color: #f0f8ff;}#sk-container-id-3 div.sk-toggleable__content pre {margin: 0.2em;color: black;border-radius: 0.25em;background-color: #f0f8ff;}#sk-container-id-3 input.sk-toggleable__control:checked~div.sk-toggleable__content {max-height: 200px;max-width: 100%;overflow: auto;}#sk-container-id-3 input.sk-toggleable__control:checked~label.sk-toggleable__label-arrow:before {content: \"▾\";}#sk-container-id-3 div.sk-estimator input.sk-toggleable__control:checked~label.sk-toggleable__label {background-color: #d4ebff;}#sk-container-id-3 div.sk-label input.sk-toggleable__control:checked~label.sk-toggleable__label {background-color: #d4ebff;}#sk-container-id-3 input.sk-hidden--visually {border: 0;clip: rect(1px 1px 1px 1px);clip: rect(1px, 1px, 1px, 1px);height: 1px;margin: -1px;overflow: hidden;padding: 0;position: absolute;width: 1px;}#sk-container-id-3 div.sk-estimator {font-family: monospace;background-color: #f0f8ff;border: 1px dotted black;border-radius: 0.25em;box-sizing: border-box;margin-bottom: 0.5em;}#sk-container-id-3 div.sk-estimator:hover {background-color: #d4ebff;}#sk-container-id-3 div.sk-parallel-item::after {content: \"\";width: 100%;border-bottom: 1px solid gray;flex-grow: 1;}#sk-container-id-3 div.sk-label:hover label.sk-toggleable__label {background-color: #d4ebff;}#sk-container-id-3 div.sk-serial::before {content: \"\";position: absolute;border-left: 1px solid gray;box-sizing: border-box;top: 0;bottom: 0;left: 50%;z-index: 0;}#sk-container-id-3 div.sk-serial {display: flex;flex-direction: column;align-items: center;background-color: white;padding-right: 0.2em;padding-left: 0.2em;position: relative;}#sk-container-id-3 div.sk-item {position: relative;z-index: 1;}#sk-container-id-3 div.sk-parallel {display: flex;align-items: stretch;justify-content: center;background-color: white;position: relative;}#sk-container-id-3 div.sk-item::before, #sk-container-id-3 div.sk-parallel-item::before {content: \"\";position: absolute;border-left: 1px solid gray;box-sizing: border-box;top: 0;bottom: 0;left: 50%;z-index: -1;}#sk-container-id-3 div.sk-parallel-item {display: flex;flex-direction: column;z-index: 1;position: relative;background-color: white;}#sk-container-id-3 div.sk-parallel-item:first-child::after {align-self: flex-end;width: 50%;}#sk-container-id-3 div.sk-parallel-item:last-child::after {align-self: flex-start;width: 50%;}#sk-container-id-3 div.sk-parallel-item:only-child::after {width: 0;}#sk-container-id-3 div.sk-dashed-wrapped {border: 1px dashed gray;margin: 0 0.4em 0.5em 0.4em;box-sizing: border-box;padding-bottom: 0.4em;background-color: white;}#sk-container-id-3 div.sk-label label {font-family: monospace;font-weight: bold;display: inline-block;line-height: 1.2em;}#sk-container-id-3 div.sk-label-container {text-align: center;}#sk-container-id-3 div.sk-container {/* jupyter's `normalize.less` sets `[hidden] { display: none; }` but bootstrap.min.css set `[hidden] { display: none !important; }` so we also need the `!important` here to be able to override the default hidden behavior on the sphinx rendered scikit-learn.org. See: https://github.com/scikit-learn/scikit-learn/issues/21755 */display: inline-block !important;position: relative;}#sk-container-id-3 div.sk-text-repr-fallback {display: none;}</style><div id=\"sk-container-id-3\" class=\"sk-top-container\"><div class=\"sk-text-repr-fallback\"><pre>VotingClassifier(estimators=[(&#x27;dt&#x27;,\n",
       "                              Pipeline(steps=[(&#x27;columntransformer&#x27;,\n",
       "                                               ColumnTransformer(remainder=&#x27;passthrough&#x27;,\n",
       "                                                                 transformers=[(&#x27;numerical&#x27;,\n",
       "                                                                                Pipeline(steps=[(&#x27;impute&#x27;,\n",
       "                                                                                                 SimpleImputer()),\n",
       "                                                                                                (&#x27;scale&#x27;,\n",
       "                                                                                                 MinMaxScaler())]),\n",
       "                                                                                [15]),\n",
       "                                                                               (&#x27;nominal&#x27;,\n",
       "                                                                                Pipeline(steps=[(&#x27;impute&#x27;,\n",
       "                                                                                                 SimpleImputer(strategy=&#x27;most_frequent&#x27;)),\n",
       "                                                                                                (&#x27;encode&#x27;,\n",
       "                                                                                                 OneHotEncoder())]),\n",
       "                                                                                [0,\n",
       "                                                                                 1,\n",
       "                                                                                 2,\n",
       "                                                                                 3,\n",
       "                                                                                 4,\n",
       "                                                                                 5,\n",
       "                                                                                 7,\n",
       "                                                                                 8,\n",
       "                                                                                 9,\n",
       "                                                                                 10,\n",
       "                                                                                 13])...\n",
       "                                                                                                 MinMaxScaler())]),\n",
       "                                                                                [15]),\n",
       "                                                                               (&#x27;nominal&#x27;,\n",
       "                                                                                Pipeline(steps=[(&#x27;impute&#x27;,\n",
       "                                                                                                 SimpleImputer(strategy=&#x27;most_frequent&#x27;)),\n",
       "                                                                                                (&#x27;encode&#x27;,\n",
       "                                                                                                 OneHotEncoder())]),\n",
       "                                                                                [0,\n",
       "                                                                                 1,\n",
       "                                                                                 2,\n",
       "                                                                                 3,\n",
       "                                                                                 4,\n",
       "                                                                                 5,\n",
       "                                                                                 7,\n",
       "                                                                                 8,\n",
       "                                                                                 9,\n",
       "                                                                                 10,\n",
       "                                                                                 13]),\n",
       "                                                                               (&#x27;ordinal&#x27;,\n",
       "                                                                                Pipeline(steps=[(&#x27;impute&#x27;,\n",
       "                                                                                                 SimpleImputer(strategy=&#x27;most_frequent&#x27;)),\n",
       "                                                                                                (&#x27;encode&#x27;,\n",
       "                                                                                                 OrdinalEncoder())]),\n",
       "                                                                                [6,\n",
       "                                                                                 11,\n",
       "                                                                                 12,\n",
       "                                                                                 14])])),\n",
       "                                              (&#x27;randomforestclassifier&#x27;,\n",
       "                                               RandomForestClassifier())]))],\n",
       "                 voting=&#x27;soft&#x27;)</pre><b>In a Jupyter environment, please rerun this cell to show the HTML representation or trust the notebook. <br />On GitHub, the HTML representation is unable to render, please try loading this page with nbviewer.org.</b></div><div class=\"sk-container\" hidden><div class=\"sk-item sk-dashed-wrapped\"><div class=\"sk-label-container\"><div class=\"sk-label sk-toggleable\"><input class=\"sk-toggleable__control sk-hidden--visually\" id=\"sk-estimator-id-29\" type=\"checkbox\" ><label for=\"sk-estimator-id-29\" class=\"sk-toggleable__label sk-toggleable__label-arrow\">VotingClassifier</label><div class=\"sk-toggleable__content\"><pre>VotingClassifier(estimators=[(&#x27;dt&#x27;,\n",
       "                              Pipeline(steps=[(&#x27;columntransformer&#x27;,\n",
       "                                               ColumnTransformer(remainder=&#x27;passthrough&#x27;,\n",
       "                                                                 transformers=[(&#x27;numerical&#x27;,\n",
       "                                                                                Pipeline(steps=[(&#x27;impute&#x27;,\n",
       "                                                                                                 SimpleImputer()),\n",
       "                                                                                                (&#x27;scale&#x27;,\n",
       "                                                                                                 MinMaxScaler())]),\n",
       "                                                                                [15]),\n",
       "                                                                               (&#x27;nominal&#x27;,\n",
       "                                                                                Pipeline(steps=[(&#x27;impute&#x27;,\n",
       "                                                                                                 SimpleImputer(strategy=&#x27;most_frequent&#x27;)),\n",
       "                                                                                                (&#x27;encode&#x27;,\n",
       "                                                                                                 OneHotEncoder())]),\n",
       "                                                                                [0,\n",
       "                                                                                 1,\n",
       "                                                                                 2,\n",
       "                                                                                 3,\n",
       "                                                                                 4,\n",
       "                                                                                 5,\n",
       "                                                                                 7,\n",
       "                                                                                 8,\n",
       "                                                                                 9,\n",
       "                                                                                 10,\n",
       "                                                                                 13])...\n",
       "                                                                                                 MinMaxScaler())]),\n",
       "                                                                                [15]),\n",
       "                                                                               (&#x27;nominal&#x27;,\n",
       "                                                                                Pipeline(steps=[(&#x27;impute&#x27;,\n",
       "                                                                                                 SimpleImputer(strategy=&#x27;most_frequent&#x27;)),\n",
       "                                                                                                (&#x27;encode&#x27;,\n",
       "                                                                                                 OneHotEncoder())]),\n",
       "                                                                                [0,\n",
       "                                                                                 1,\n",
       "                                                                                 2,\n",
       "                                                                                 3,\n",
       "                                                                                 4,\n",
       "                                                                                 5,\n",
       "                                                                                 7,\n",
       "                                                                                 8,\n",
       "                                                                                 9,\n",
       "                                                                                 10,\n",
       "                                                                                 13]),\n",
       "                                                                               (&#x27;ordinal&#x27;,\n",
       "                                                                                Pipeline(steps=[(&#x27;impute&#x27;,\n",
       "                                                                                                 SimpleImputer(strategy=&#x27;most_frequent&#x27;)),\n",
       "                                                                                                (&#x27;encode&#x27;,\n",
       "                                                                                                 OrdinalEncoder())]),\n",
       "                                                                                [6,\n",
       "                                                                                 11,\n",
       "                                                                                 12,\n",
       "                                                                                 14])])),\n",
       "                                              (&#x27;randomforestclassifier&#x27;,\n",
       "                                               RandomForestClassifier())]))],\n",
       "                 voting=&#x27;soft&#x27;)</pre></div></div></div><div class=\"sk-parallel\"><div class=\"sk-parallel-item\"><div class=\"sk-item\"><div class=\"sk-label-container\"><div class=\"sk-label sk-toggleable\"><label>dt</label></div></div><div class=\"sk-serial\"><div class=\"sk-item\"><div class=\"sk-serial\"><div class=\"sk-item sk-dashed-wrapped\"><div class=\"sk-label-container\"><div class=\"sk-label sk-toggleable\"><input class=\"sk-toggleable__control sk-hidden--visually\" id=\"sk-estimator-id-30\" type=\"checkbox\" ><label for=\"sk-estimator-id-30\" class=\"sk-toggleable__label sk-toggleable__label-arrow\">columntransformer: ColumnTransformer</label><div class=\"sk-toggleable__content\"><pre>ColumnTransformer(remainder=&#x27;passthrough&#x27;,\n",
       "                  transformers=[(&#x27;numerical&#x27;,\n",
       "                                 Pipeline(steps=[(&#x27;impute&#x27;, SimpleImputer()),\n",
       "                                                 (&#x27;scale&#x27;, MinMaxScaler())]),\n",
       "                                 [15]),\n",
       "                                (&#x27;nominal&#x27;,\n",
       "                                 Pipeline(steps=[(&#x27;impute&#x27;,\n",
       "                                                  SimpleImputer(strategy=&#x27;most_frequent&#x27;)),\n",
       "                                                 (&#x27;encode&#x27;, OneHotEncoder())]),\n",
       "                                 [0, 1, 2, 3, 4, 5, 7, 8, 9, 10, 13]),\n",
       "                                (&#x27;ordinal&#x27;,\n",
       "                                 Pipeline(steps=[(&#x27;impute&#x27;,\n",
       "                                                  SimpleImputer(strategy=&#x27;most_frequent&#x27;)),\n",
       "                                                 (&#x27;encode&#x27;, OrdinalEncoder())]),\n",
       "                                 [6, 11, 12, 14])])</pre></div></div></div><div class=\"sk-parallel\"><div class=\"sk-parallel-item\"><div class=\"sk-item\"><div class=\"sk-label-container\"><div class=\"sk-label sk-toggleable\"><input class=\"sk-toggleable__control sk-hidden--visually\" id=\"sk-estimator-id-31\" type=\"checkbox\" ><label for=\"sk-estimator-id-31\" class=\"sk-toggleable__label sk-toggleable__label-arrow\">numerical</label><div class=\"sk-toggleable__content\"><pre>[15]</pre></div></div></div><div class=\"sk-serial\"><div class=\"sk-item\"><div class=\"sk-serial\"><div class=\"sk-item\"><div class=\"sk-estimator sk-toggleable\"><input class=\"sk-toggleable__control sk-hidden--visually\" id=\"sk-estimator-id-32\" type=\"checkbox\" ><label for=\"sk-estimator-id-32\" class=\"sk-toggleable__label sk-toggleable__label-arrow\">SimpleImputer</label><div class=\"sk-toggleable__content\"><pre>SimpleImputer()</pre></div></div></div><div class=\"sk-item\"><div class=\"sk-estimator sk-toggleable\"><input class=\"sk-toggleable__control sk-hidden--visually\" id=\"sk-estimator-id-33\" type=\"checkbox\" ><label for=\"sk-estimator-id-33\" class=\"sk-toggleable__label sk-toggleable__label-arrow\">MinMaxScaler</label><div class=\"sk-toggleable__content\"><pre>MinMaxScaler()</pre></div></div></div></div></div></div></div></div><div class=\"sk-parallel-item\"><div class=\"sk-item\"><div class=\"sk-label-container\"><div class=\"sk-label sk-toggleable\"><input class=\"sk-toggleable__control sk-hidden--visually\" id=\"sk-estimator-id-34\" type=\"checkbox\" ><label for=\"sk-estimator-id-34\" class=\"sk-toggleable__label sk-toggleable__label-arrow\">nominal</label><div class=\"sk-toggleable__content\"><pre>[0, 1, 2, 3, 4, 5, 7, 8, 9, 10, 13]</pre></div></div></div><div class=\"sk-serial\"><div class=\"sk-item\"><div class=\"sk-serial\"><div class=\"sk-item\"><div class=\"sk-estimator sk-toggleable\"><input class=\"sk-toggleable__control sk-hidden--visually\" id=\"sk-estimator-id-35\" type=\"checkbox\" ><label for=\"sk-estimator-id-35\" class=\"sk-toggleable__label sk-toggleable__label-arrow\">SimpleImputer</label><div class=\"sk-toggleable__content\"><pre>SimpleImputer(strategy=&#x27;most_frequent&#x27;)</pre></div></div></div><div class=\"sk-item\"><div class=\"sk-estimator sk-toggleable\"><input class=\"sk-toggleable__control sk-hidden--visually\" id=\"sk-estimator-id-36\" type=\"checkbox\" ><label for=\"sk-estimator-id-36\" class=\"sk-toggleable__label sk-toggleable__label-arrow\">OneHotEncoder</label><div class=\"sk-toggleable__content\"><pre>OneHotEncoder()</pre></div></div></div></div></div></div></div></div><div class=\"sk-parallel-item\"><div class=\"sk-item\"><div class=\"sk-label-container\"><div class=\"sk-label sk-toggleable\"><input class=\"sk-toggleable__control sk-hidden--visually\" id=\"sk-estimator-id-37\" type=\"checkbox\" ><label for=\"sk-estimator-id-37\" class=\"sk-toggleable__label sk-toggleable__label-arrow\">ordinal</label><div class=\"sk-toggleable__content\"><pre>[6, 11, 12, 14]</pre></div></div></div><div class=\"sk-serial\"><div class=\"sk-item\"><div class=\"sk-serial\"><div class=\"sk-item\"><div class=\"sk-estimator sk-toggleable\"><input class=\"sk-toggleable__control sk-hidden--visually\" id=\"sk-estimator-id-38\" type=\"checkbox\" ><label for=\"sk-estimator-id-38\" class=\"sk-toggleable__label sk-toggleable__label-arrow\">SimpleImputer</label><div class=\"sk-toggleable__content\"><pre>SimpleImputer(strategy=&#x27;most_frequent&#x27;)</pre></div></div></div><div class=\"sk-item\"><div class=\"sk-estimator sk-toggleable\"><input class=\"sk-toggleable__control sk-hidden--visually\" id=\"sk-estimator-id-39\" type=\"checkbox\" ><label for=\"sk-estimator-id-39\" class=\"sk-toggleable__label sk-toggleable__label-arrow\">OrdinalEncoder</label><div class=\"sk-toggleable__content\"><pre>OrdinalEncoder()</pre></div></div></div></div></div></div></div></div><div class=\"sk-parallel-item\"><div class=\"sk-item\"><div class=\"sk-label-container\"><div class=\"sk-label sk-toggleable\"><input class=\"sk-toggleable__control sk-hidden--visually\" id=\"sk-estimator-id-40\" type=\"checkbox\" ><label for=\"sk-estimator-id-40\" class=\"sk-toggleable__label sk-toggleable__label-arrow\">remainder</label><div class=\"sk-toggleable__content\"><pre>[]</pre></div></div></div><div class=\"sk-serial\"><div class=\"sk-item\"><div class=\"sk-estimator sk-toggleable\"><input class=\"sk-toggleable__control sk-hidden--visually\" id=\"sk-estimator-id-41\" type=\"checkbox\" ><label for=\"sk-estimator-id-41\" class=\"sk-toggleable__label sk-toggleable__label-arrow\">passthrough</label><div class=\"sk-toggleable__content\"><pre>passthrough</pre></div></div></div></div></div></div></div></div><div class=\"sk-item\"><div class=\"sk-estimator sk-toggleable\"><input class=\"sk-toggleable__control sk-hidden--visually\" id=\"sk-estimator-id-42\" type=\"checkbox\" ><label for=\"sk-estimator-id-42\" class=\"sk-toggleable__label sk-toggleable__label-arrow\">DecisionTreeClassifier</label><div class=\"sk-toggleable__content\"><pre>DecisionTreeClassifier()</pre></div></div></div></div></div></div></div></div><div class=\"sk-parallel-item\"><div class=\"sk-item\"><div class=\"sk-label-container\"><div class=\"sk-label sk-toggleable\"><label>rf</label></div></div><div class=\"sk-serial\"><div class=\"sk-item\"><div class=\"sk-serial\"><div class=\"sk-item sk-dashed-wrapped\"><div class=\"sk-label-container\"><div class=\"sk-label sk-toggleable\"><input class=\"sk-toggleable__control sk-hidden--visually\" id=\"sk-estimator-id-43\" type=\"checkbox\" ><label for=\"sk-estimator-id-43\" class=\"sk-toggleable__label sk-toggleable__label-arrow\">columntransformer: ColumnTransformer</label><div class=\"sk-toggleable__content\"><pre>ColumnTransformer(remainder=&#x27;passthrough&#x27;,\n",
       "                  transformers=[(&#x27;numerical&#x27;,\n",
       "                                 Pipeline(steps=[(&#x27;impute&#x27;, SimpleImputer()),\n",
       "                                                 (&#x27;scale&#x27;, MinMaxScaler())]),\n",
       "                                 [15]),\n",
       "                                (&#x27;nominal&#x27;,\n",
       "                                 Pipeline(steps=[(&#x27;impute&#x27;,\n",
       "                                                  SimpleImputer(strategy=&#x27;most_frequent&#x27;)),\n",
       "                                                 (&#x27;encode&#x27;, OneHotEncoder())]),\n",
       "                                 [0, 1, 2, 3, 4, 5, 7, 8, 9, 10, 13]),\n",
       "                                (&#x27;ordinal&#x27;,\n",
       "                                 Pipeline(steps=[(&#x27;impute&#x27;,\n",
       "                                                  SimpleImputer(strategy=&#x27;most_frequent&#x27;)),\n",
       "                                                 (&#x27;encode&#x27;, OrdinalEncoder())]),\n",
       "                                 [6, 11, 12, 14])])</pre></div></div></div><div class=\"sk-parallel\"><div class=\"sk-parallel-item\"><div class=\"sk-item\"><div class=\"sk-label-container\"><div class=\"sk-label sk-toggleable\"><input class=\"sk-toggleable__control sk-hidden--visually\" id=\"sk-estimator-id-44\" type=\"checkbox\" ><label for=\"sk-estimator-id-44\" class=\"sk-toggleable__label sk-toggleable__label-arrow\">numerical</label><div class=\"sk-toggleable__content\"><pre>[15]</pre></div></div></div><div class=\"sk-serial\"><div class=\"sk-item\"><div class=\"sk-serial\"><div class=\"sk-item\"><div class=\"sk-estimator sk-toggleable\"><input class=\"sk-toggleable__control sk-hidden--visually\" id=\"sk-estimator-id-45\" type=\"checkbox\" ><label for=\"sk-estimator-id-45\" class=\"sk-toggleable__label sk-toggleable__label-arrow\">SimpleImputer</label><div class=\"sk-toggleable__content\"><pre>SimpleImputer()</pre></div></div></div><div class=\"sk-item\"><div class=\"sk-estimator sk-toggleable\"><input class=\"sk-toggleable__control sk-hidden--visually\" id=\"sk-estimator-id-46\" type=\"checkbox\" ><label for=\"sk-estimator-id-46\" class=\"sk-toggleable__label sk-toggleable__label-arrow\">MinMaxScaler</label><div class=\"sk-toggleable__content\"><pre>MinMaxScaler()</pre></div></div></div></div></div></div></div></div><div class=\"sk-parallel-item\"><div class=\"sk-item\"><div class=\"sk-label-container\"><div class=\"sk-label sk-toggleable\"><input class=\"sk-toggleable__control sk-hidden--visually\" id=\"sk-estimator-id-47\" type=\"checkbox\" ><label for=\"sk-estimator-id-47\" class=\"sk-toggleable__label sk-toggleable__label-arrow\">nominal</label><div class=\"sk-toggleable__content\"><pre>[0, 1, 2, 3, 4, 5, 7, 8, 9, 10, 13]</pre></div></div></div><div class=\"sk-serial\"><div class=\"sk-item\"><div class=\"sk-serial\"><div class=\"sk-item\"><div class=\"sk-estimator sk-toggleable\"><input class=\"sk-toggleable__control sk-hidden--visually\" id=\"sk-estimator-id-48\" type=\"checkbox\" ><label for=\"sk-estimator-id-48\" class=\"sk-toggleable__label sk-toggleable__label-arrow\">SimpleImputer</label><div class=\"sk-toggleable__content\"><pre>SimpleImputer(strategy=&#x27;most_frequent&#x27;)</pre></div></div></div><div class=\"sk-item\"><div class=\"sk-estimator sk-toggleable\"><input class=\"sk-toggleable__control sk-hidden--visually\" id=\"sk-estimator-id-49\" type=\"checkbox\" ><label for=\"sk-estimator-id-49\" class=\"sk-toggleable__label sk-toggleable__label-arrow\">OneHotEncoder</label><div class=\"sk-toggleable__content\"><pre>OneHotEncoder()</pre></div></div></div></div></div></div></div></div><div class=\"sk-parallel-item\"><div class=\"sk-item\"><div class=\"sk-label-container\"><div class=\"sk-label sk-toggleable\"><input class=\"sk-toggleable__control sk-hidden--visually\" id=\"sk-estimator-id-50\" type=\"checkbox\" ><label for=\"sk-estimator-id-50\" class=\"sk-toggleable__label sk-toggleable__label-arrow\">ordinal</label><div class=\"sk-toggleable__content\"><pre>[6, 11, 12, 14]</pre></div></div></div><div class=\"sk-serial\"><div class=\"sk-item\"><div class=\"sk-serial\"><div class=\"sk-item\"><div class=\"sk-estimator sk-toggleable\"><input class=\"sk-toggleable__control sk-hidden--visually\" id=\"sk-estimator-id-51\" type=\"checkbox\" ><label for=\"sk-estimator-id-51\" class=\"sk-toggleable__label sk-toggleable__label-arrow\">SimpleImputer</label><div class=\"sk-toggleable__content\"><pre>SimpleImputer(strategy=&#x27;most_frequent&#x27;)</pre></div></div></div><div class=\"sk-item\"><div class=\"sk-estimator sk-toggleable\"><input class=\"sk-toggleable__control sk-hidden--visually\" id=\"sk-estimator-id-52\" type=\"checkbox\" ><label for=\"sk-estimator-id-52\" class=\"sk-toggleable__label sk-toggleable__label-arrow\">OrdinalEncoder</label><div class=\"sk-toggleable__content\"><pre>OrdinalEncoder()</pre></div></div></div></div></div></div></div></div><div class=\"sk-parallel-item\"><div class=\"sk-item\"><div class=\"sk-label-container\"><div class=\"sk-label sk-toggleable\"><input class=\"sk-toggleable__control sk-hidden--visually\" id=\"sk-estimator-id-53\" type=\"checkbox\" ><label for=\"sk-estimator-id-53\" class=\"sk-toggleable__label sk-toggleable__label-arrow\">remainder</label><div class=\"sk-toggleable__content\"><pre>[]</pre></div></div></div><div class=\"sk-serial\"><div class=\"sk-item\"><div class=\"sk-estimator sk-toggleable\"><input class=\"sk-toggleable__control sk-hidden--visually\" id=\"sk-estimator-id-54\" type=\"checkbox\" ><label for=\"sk-estimator-id-54\" class=\"sk-toggleable__label sk-toggleable__label-arrow\">passthrough</label><div class=\"sk-toggleable__content\"><pre>passthrough</pre></div></div></div></div></div></div></div></div><div class=\"sk-item\"><div class=\"sk-estimator sk-toggleable\"><input class=\"sk-toggleable__control sk-hidden--visually\" id=\"sk-estimator-id-55\" type=\"checkbox\" ><label for=\"sk-estimator-id-55\" class=\"sk-toggleable__label sk-toggleable__label-arrow\">RandomForestClassifier</label><div class=\"sk-toggleable__content\"><pre>RandomForestClassifier()</pre></div></div></div></div></div></div></div></div></div></div></div></div>"
      ],
      "text/plain": [
       "VotingClassifier(estimators=[('dt',\n",
       "                              Pipeline(steps=[('columntransformer',\n",
       "                                               ColumnTransformer(remainder='passthrough',\n",
       "                                                                 transformers=[('numerical',\n",
       "                                                                                Pipeline(steps=[('impute',\n",
       "                                                                                                 SimpleImputer()),\n",
       "                                                                                                ('scale',\n",
       "                                                                                                 MinMaxScaler())]),\n",
       "                                                                                [15]),\n",
       "                                                                               ('nominal',\n",
       "                                                                                Pipeline(steps=[('impute',\n",
       "                                                                                                 SimpleImputer(strategy='most_frequent')),\n",
       "                                                                                                ('encode',\n",
       "                                                                                                 OneHotEncoder())]),\n",
       "                                                                                [0,\n",
       "                                                                                 1,\n",
       "                                                                                 2,\n",
       "                                                                                 3,\n",
       "                                                                                 4,\n",
       "                                                                                 5,\n",
       "                                                                                 7,\n",
       "                                                                                 8,\n",
       "                                                                                 9,\n",
       "                                                                                 10,\n",
       "                                                                                 13])...\n",
       "                                                                                                 MinMaxScaler())]),\n",
       "                                                                                [15]),\n",
       "                                                                               ('nominal',\n",
       "                                                                                Pipeline(steps=[('impute',\n",
       "                                                                                                 SimpleImputer(strategy='most_frequent')),\n",
       "                                                                                                ('encode',\n",
       "                                                                                                 OneHotEncoder())]),\n",
       "                                                                                [0,\n",
       "                                                                                 1,\n",
       "                                                                                 2,\n",
       "                                                                                 3,\n",
       "                                                                                 4,\n",
       "                                                                                 5,\n",
       "                                                                                 7,\n",
       "                                                                                 8,\n",
       "                                                                                 9,\n",
       "                                                                                 10,\n",
       "                                                                                 13]),\n",
       "                                                                               ('ordinal',\n",
       "                                                                                Pipeline(steps=[('impute',\n",
       "                                                                                                 SimpleImputer(strategy='most_frequent')),\n",
       "                                                                                                ('encode',\n",
       "                                                                                                 OrdinalEncoder())]),\n",
       "                                                                                [6,\n",
       "                                                                                 11,\n",
       "                                                                                 12,\n",
       "                                                                                 14])])),\n",
       "                                              ('randomforestclassifier',\n",
       "                                               RandomForestClassifier())]))],\n",
       "                 voting='soft')"
      ]
     },
     "execution_count": 58,
     "metadata": {},
     "output_type": "execute_result"
    }
   ],
   "source": [
    "voting.fit(X_train, y_train)"
   ]
  },
  {
   "cell_type": "code",
   "execution_count": 59,
   "metadata": {},
   "outputs": [],
   "source": [
    "y_pred_voting = voting.predict(X_test)"
   ]
  },
  {
   "cell_type": "code",
   "execution_count": 60,
   "metadata": {},
   "outputs": [
    {
     "name": "stdout",
     "output_type": "stream",
     "text": [
      "              precision    recall  f1-score   support\n",
      "\n",
      "        High       0.98      0.98      0.98     25934\n",
      "         Low       0.99      0.99      0.99     28586\n",
      "      Medium       0.97      0.98      0.97     28804\n",
      "\n",
      "    accuracy                           0.98     83324\n",
      "   macro avg       0.98      0.98      0.98     83324\n",
      "weighted avg       0.98      0.98      0.98     83324\n",
      "\n"
     ]
    }
   ],
   "source": [
    "print(classification_report(y_pred_voting, y_test))"
   ]
  },
  {
   "cell_type": "code",
   "execution_count": 61,
   "metadata": {},
   "outputs": [
    {
     "data": {
      "image/png": "[encoded data removed]",
      "text/plain": [
       "<Figure size 640x480 with 2 Axes>"
      ]
     },
     "metadata": {},
     "output_type": "display_data"
    }
   ],
   "source": [
    "unique_classes = np.unique(np.concatenate([y_test, y_pred_dt]))\n",
    "\n",
    "cm = confusion_matrix(y_test, y_pred_dt, labels=unique_classes)\n",
    "\n",
    "disp = ConfusionMatrixDisplay(confusion_matrix=cm, display_labels=unique_classes)\n",
    "disp.plot(cmap='Blues')\n",
    "plt.show()"
   ]
  },
  {
   "cell_type": "markdown",
   "metadata": {},
   "source": [
    "## **Submission**"
   ]
  },
  {
   "cell_type": "code",
   "execution_count": 62,
   "metadata": {},
   "outputs": [
    {
     "data": {
      "text/html": [
       "<div>\n",
       "<style scoped>\n",
       "    .dataframe tbody tr th:only-of-type {\n",
       "        vertical-align: middle;\n",
       "    }\n",
       "\n",
       "    .dataframe tbody tr th {\n",
       "        vertical-align: top;\n",
       "    }\n",
       "\n",
       "    .dataframe thead th {\n",
       "        text-align: right;\n",
       "    }\n",
       "</style>\n",
       "<table border=\"1\" class=\"dataframe\">\n",
       "  <thead>\n",
       "    <tr style=\"text-align: right;\">\n",
       "      <th></th>\n",
       "      <th>Sex</th>\n",
       "      <th>Nation</th>\n",
       "      <th>Job</th>\n",
       "      <th>Freelance_Status</th>\n",
       "      <th>Genetic_Background</th>\n",
       "      <th>Therapy</th>\n",
       "      <th>Indoor_Days</th>\n",
       "      <th>Increasing_Stress</th>\n",
       "      <th>Habit_Changes</th>\n",
       "      <th>Psychological_History</th>\n",
       "      <th>Adaptation_Challenges</th>\n",
       "      <th>Job_Engagement</th>\n",
       "      <th>Social_Vulnerability</th>\n",
       "      <th>Psych_Evaluation</th>\n",
       "      <th>Support_Options</th>\n",
       "      <th>Body_Weight</th>\n",
       "    </tr>\n",
       "  </thead>\n",
       "  <tbody>\n",
       "    <tr>\n",
       "      <th>0</th>\n",
       "      <td>Female</td>\n",
       "      <td>Canada</td>\n",
       "      <td>Corporate</td>\n",
       "      <td>No</td>\n",
       "      <td>Yes</td>\n",
       "      <td>Yes</td>\n",
       "      <td>1-14 days</td>\n",
       "      <td>Yes</td>\n",
       "      <td>No</td>\n",
       "      <td>Yes</td>\n",
       "      <td>No</td>\n",
       "      <td>No</td>\n",
       "      <td>Yes</td>\n",
       "      <td>No</td>\n",
       "      <td>Yes</td>\n",
       "      <td>74</td>\n",
       "    </tr>\n",
       "    <tr>\n",
       "      <th>1</th>\n",
       "      <td>Female</td>\n",
       "      <td>United States</td>\n",
       "      <td>Corporate</td>\n",
       "      <td>No</td>\n",
       "      <td>Yes</td>\n",
       "      <td>Yes</td>\n",
       "      <td>1-14 days</td>\n",
       "      <td>Yes</td>\n",
       "      <td>No</td>\n",
       "      <td>Yes</td>\n",
       "      <td>No</td>\n",
       "      <td>No</td>\n",
       "      <td>Yes</td>\n",
       "      <td>No</td>\n",
       "      <td>Yes</td>\n",
       "      <td>71</td>\n",
       "    </tr>\n",
       "    <tr>\n",
       "      <th>2</th>\n",
       "      <td>Female</td>\n",
       "      <td>United States</td>\n",
       "      <td>Corporate</td>\n",
       "      <td>Yes</td>\n",
       "      <td>Yes</td>\n",
       "      <td>Yes</td>\n",
       "      <td>1-14 days</td>\n",
       "      <td>Yes</td>\n",
       "      <td>No</td>\n",
       "      <td>Yes</td>\n",
       "      <td>No</td>\n",
       "      <td>No</td>\n",
       "      <td>Yes</td>\n",
       "      <td>No</td>\n",
       "      <td>No</td>\n",
       "      <td>64</td>\n",
       "    </tr>\n",
       "    <tr>\n",
       "      <th>3</th>\n",
       "      <td>Female</td>\n",
       "      <td>United States</td>\n",
       "      <td>Corporate</td>\n",
       "      <td>No</td>\n",
       "      <td>No</td>\n",
       "      <td>Yes</td>\n",
       "      <td>1-14 days</td>\n",
       "      <td>Yes</td>\n",
       "      <td>No</td>\n",
       "      <td>Yes</td>\n",
       "      <td>No</td>\n",
       "      <td>No</td>\n",
       "      <td>Yes</td>\n",
       "      <td>No</td>\n",
       "      <td>Yes</td>\n",
       "      <td>58</td>\n",
       "    </tr>\n",
       "    <tr>\n",
       "      <th>4</th>\n",
       "      <td>Female</td>\n",
       "      <td>Canada</td>\n",
       "      <td>Corporate</td>\n",
       "      <td>Yes</td>\n",
       "      <td>Yes</td>\n",
       "      <td>Yes</td>\n",
       "      <td>1-14 days</td>\n",
       "      <td>Yes</td>\n",
       "      <td>No</td>\n",
       "      <td>Yes</td>\n",
       "      <td>No</td>\n",
       "      <td>No</td>\n",
       "      <td>Yes</td>\n",
       "      <td>No</td>\n",
       "      <td>Yes</td>\n",
       "      <td>89</td>\n",
       "    </tr>\n",
       "  </tbody>\n",
       "</table>\n",
       "</div>"
      ],
      "text/plain": [
       "      Sex         Nation        Job Freelance_Status Genetic_Background  \\\n",
       "0  Female         Canada  Corporate               No                Yes   \n",
       "1  Female  United States  Corporate               No                Yes   \n",
       "2  Female  United States  Corporate              Yes                Yes   \n",
       "3  Female  United States  Corporate               No                 No   \n",
       "4  Female         Canada  Corporate              Yes                Yes   \n",
       "\n",
       "  Therapy Indoor_Days Increasing_Stress Habit_Changes Psychological_History  \\\n",
       "0     Yes   1-14 days               Yes            No                   Yes   \n",
       "1     Yes   1-14 days               Yes            No                   Yes   \n",
       "2     Yes   1-14 days               Yes            No                   Yes   \n",
       "3     Yes   1-14 days               Yes            No                   Yes   \n",
       "4     Yes   1-14 days               Yes            No                   Yes   \n",
       "\n",
       "  Adaptation_Challenges Job_Engagement Social_Vulnerability Psych_Evaluation  \\\n",
       "0                    No             No                  Yes               No   \n",
       "1                    No             No                  Yes               No   \n",
       "2                    No             No                  Yes               No   \n",
       "3                    No             No                  Yes               No   \n",
       "4                    No             No                  Yes               No   \n",
       "\n",
       "  Support_Options  Body_Weight  \n",
       "0             Yes           74  \n",
       "1             Yes           71  \n",
       "2              No           64  \n",
       "3             Yes           58  \n",
       "4             Yes           89  "
      ]
     },
     "execution_count": 62,
     "metadata": {},
     "output_type": "execute_result"
    }
   ],
   "source": [
    "test = pd.read_csv('test.csv')\n",
    "test.drop(columns=['ID', 'Date_Time'], inplace=True)\n",
    "test.head()"
   ]
  },
  {
   "cell_type": "code",
   "execution_count": 63,
   "metadata": {},
   "outputs": [],
   "source": [
    "prediction = voting.predict(test)"
   ]
  },
  {
   "cell_type": "code",
   "execution_count": 64,
   "metadata": {},
   "outputs": [],
   "source": [
    "predict = pd.DataFrame(prediction, columns=['Emotional_Fluctuations'])"
   ]
  },
  {
   "cell_type": "code",
   "execution_count": 65,
   "metadata": {},
   "outputs": [],
   "source": [
    "predict['ID'] = range(1, len(predict) + 1)"
   ]
  },
  {
   "cell_type": "code",
   "execution_count": 66,
   "metadata": {},
   "outputs": [],
   "source": [
    "predict = predict[['ID', 'Emotional_Fluctuations']]"
   ]
  },
  {
   "cell_type": "code",
   "execution_count": 67,
   "metadata": {},
   "outputs": [],
   "source": [
    "predict.to_csv('Output.csv', index=False)"
   ]
  }
 ],
 "metadata": {
  "kernelspec": {
   "display_name": "Python 3",
   "language": "python",
   "name": "python3"
  },
  "language_info": {
   "codemirror_mode": {
    "name": "ipython",
    "version": 3
   },
   "file_extension": ".py",
   "mimetype": "text/x-python",
   "name": "python",
   "nbconvert_exporter": "python",
   "pygments_lexer": "ipython3",
   "version": "3.11.4"
  }
 },
 "nbformat": 4,
 "nbformat_minor": 2
}
